{
 "cells": [
  {
   "cell_type": "markdown",
   "metadata": {},
   "source": [
    "# Data Preparation\n",
    "\n",
    "In this notebook, we load, validate, defend, and split our data.\n"
   ]
  },
  {
   "cell_type": "markdown",
   "metadata": {},
   "source": [
    "# 1. Load Required Libraries"
   ]
  },
  {
   "cell_type": "code",
   "execution_count": 436,
   "metadata": {},
   "outputs": [],
   "source": [
    "import pandas as pd\n",
    "import src.util as utils\n",
    "from sklearn.model_selection import train_test_split"
   ]
  },
  {
   "cell_type": "markdown",
   "metadata": {},
   "source": [
    "# 2. Load Configuration File"
   ]
  },
  {
   "cell_type": "code",
   "execution_count": 437,
   "metadata": {},
   "outputs": [],
   "source": [
    "config = utils.load_config()"
   ]
  },
  {
   "cell_type": "markdown",
   "metadata": {},
   "source": [
    "# 3. Load Dataset"
   ]
  },
  {
   "cell_type": "code",
   "execution_count": 558,
   "metadata": {},
   "outputs": [],
   "source": [
    "dataset = pd.read_csv(config[\"dataset_raw_path\"])"
   ]
  },
  {
   "cell_type": "code",
   "execution_count": 439,
   "metadata": {},
   "outputs": [
    {
     "data": {
      "text/html": [
       "<div>\n",
       "<style scoped>\n",
       "    .dataframe tbody tr th:only-of-type {\n",
       "        vertical-align: middle;\n",
       "    }\n",
       "\n",
       "    .dataframe tbody tr th {\n",
       "        vertical-align: top;\n",
       "    }\n",
       "\n",
       "    .dataframe thead th {\n",
       "        text-align: right;\n",
       "    }\n",
       "</style>\n",
       "<table border=\"1\" class=\"dataframe\">\n",
       "  <thead>\n",
       "    <tr style=\"text-align: right;\">\n",
       "      <th></th>\n",
       "      <th>R_fighter</th>\n",
       "      <th>B_fighter</th>\n",
       "      <th>R_odds</th>\n",
       "      <th>B_odds</th>\n",
       "      <th>R_ev</th>\n",
       "      <th>B_ev</th>\n",
       "      <th>date</th>\n",
       "      <th>location</th>\n",
       "      <th>country</th>\n",
       "      <th>Winner</th>\n",
       "      <th>...</th>\n",
       "      <th>finish_details</th>\n",
       "      <th>finish_round</th>\n",
       "      <th>finish_round_time</th>\n",
       "      <th>total_fight_time_secs</th>\n",
       "      <th>r_dec_odds</th>\n",
       "      <th>b_dec_odds</th>\n",
       "      <th>r_sub_odds</th>\n",
       "      <th>b_sub_odds</th>\n",
       "      <th>r_ko_odds</th>\n",
       "      <th>b_ko_odds</th>\n",
       "    </tr>\n",
       "  </thead>\n",
       "  <tbody>\n",
       "    <tr>\n",
       "      <th>0</th>\n",
       "      <td>Thiago Santos</td>\n",
       "      <td>Johnny Walker</td>\n",
       "      <td>-150.0</td>\n",
       "      <td>130</td>\n",
       "      <td>66.666667</td>\n",
       "      <td>130.000000</td>\n",
       "      <td>2021-10-02</td>\n",
       "      <td>Las Vegas, Nevada, USA</td>\n",
       "      <td>USA</td>\n",
       "      <td>Red</td>\n",
       "      <td>...</td>\n",
       "      <td>NaN</td>\n",
       "      <td>5.0</td>\n",
       "      <td>5:00</td>\n",
       "      <td>1500.0</td>\n",
       "      <td>800.0</td>\n",
       "      <td>900.0</td>\n",
       "      <td>2000.0</td>\n",
       "      <td>1600.0</td>\n",
       "      <td>-110.0</td>\n",
       "      <td>175.0</td>\n",
       "    </tr>\n",
       "    <tr>\n",
       "      <th>1</th>\n",
       "      <td>Alex Oliveira</td>\n",
       "      <td>Niko Price</td>\n",
       "      <td>170.0</td>\n",
       "      <td>-200</td>\n",
       "      <td>170.000000</td>\n",
       "      <td>50.000000</td>\n",
       "      <td>2021-10-02</td>\n",
       "      <td>Las Vegas, Nevada, USA</td>\n",
       "      <td>USA</td>\n",
       "      <td>Blue</td>\n",
       "      <td>...</td>\n",
       "      <td>NaN</td>\n",
       "      <td>3.0</td>\n",
       "      <td>5:00</td>\n",
       "      <td>900.0</td>\n",
       "      <td>450.0</td>\n",
       "      <td>350.0</td>\n",
       "      <td>700.0</td>\n",
       "      <td>1100.0</td>\n",
       "      <td>550.0</td>\n",
       "      <td>120.0</td>\n",
       "    </tr>\n",
       "    <tr>\n",
       "      <th>2</th>\n",
       "      <td>Misha Cirkunov</td>\n",
       "      <td>Krzysztof Jotko</td>\n",
       "      <td>110.0</td>\n",
       "      <td>-130</td>\n",
       "      <td>110.000000</td>\n",
       "      <td>76.923077</td>\n",
       "      <td>2021-10-02</td>\n",
       "      <td>Las Vegas, Nevada, USA</td>\n",
       "      <td>USA</td>\n",
       "      <td>Blue</td>\n",
       "      <td>...</td>\n",
       "      <td>NaN</td>\n",
       "      <td>3.0</td>\n",
       "      <td>5:00</td>\n",
       "      <td>900.0</td>\n",
       "      <td>550.0</td>\n",
       "      <td>275.0</td>\n",
       "      <td>275.0</td>\n",
       "      <td>1400.0</td>\n",
       "      <td>600.0</td>\n",
       "      <td>185.0</td>\n",
       "    </tr>\n",
       "    <tr>\n",
       "      <th>3</th>\n",
       "      <td>Alexander Hernandez</td>\n",
       "      <td>Mike Breeden</td>\n",
       "      <td>-675.0</td>\n",
       "      <td>475</td>\n",
       "      <td>14.814815</td>\n",
       "      <td>475.000000</td>\n",
       "      <td>2021-10-02</td>\n",
       "      <td>Las Vegas, Nevada, USA</td>\n",
       "      <td>USA</td>\n",
       "      <td>Red</td>\n",
       "      <td>...</td>\n",
       "      <td>Punch</td>\n",
       "      <td>1.0</td>\n",
       "      <td>1:20</td>\n",
       "      <td>80.0</td>\n",
       "      <td>175.0</td>\n",
       "      <td>900.0</td>\n",
       "      <td>500.0</td>\n",
       "      <td>3500.0</td>\n",
       "      <td>110.0</td>\n",
       "      <td>1100.0</td>\n",
       "    </tr>\n",
       "    <tr>\n",
       "      <th>4</th>\n",
       "      <td>Joe Solecki</td>\n",
       "      <td>Jared Gordon</td>\n",
       "      <td>-135.0</td>\n",
       "      <td>115</td>\n",
       "      <td>74.074074</td>\n",
       "      <td>115.000000</td>\n",
       "      <td>2021-10-02</td>\n",
       "      <td>Las Vegas, Nevada, USA</td>\n",
       "      <td>USA</td>\n",
       "      <td>Blue</td>\n",
       "      <td>...</td>\n",
       "      <td>NaN</td>\n",
       "      <td>3.0</td>\n",
       "      <td>5:00</td>\n",
       "      <td>900.0</td>\n",
       "      <td>165.0</td>\n",
       "      <td>200.0</td>\n",
       "      <td>400.0</td>\n",
       "      <td>1200.0</td>\n",
       "      <td>900.0</td>\n",
       "      <td>600.0</td>\n",
       "    </tr>\n",
       "    <tr>\n",
       "      <th>...</th>\n",
       "      <td>...</td>\n",
       "      <td>...</td>\n",
       "      <td>...</td>\n",
       "      <td>...</td>\n",
       "      <td>...</td>\n",
       "      <td>...</td>\n",
       "      <td>...</td>\n",
       "      <td>...</td>\n",
       "      <td>...</td>\n",
       "      <td>...</td>\n",
       "      <td>...</td>\n",
       "      <td>...</td>\n",
       "      <td>...</td>\n",
       "      <td>...</td>\n",
       "      <td>...</td>\n",
       "      <td>...</td>\n",
       "      <td>...</td>\n",
       "      <td>...</td>\n",
       "      <td>...</td>\n",
       "      <td>...</td>\n",
       "      <td>...</td>\n",
       "    </tr>\n",
       "    <tr>\n",
       "      <th>4891</th>\n",
       "      <td>Duane Ludwig</td>\n",
       "      <td>Darren Elkins</td>\n",
       "      <td>-155.0</td>\n",
       "      <td>135</td>\n",
       "      <td>64.516129</td>\n",
       "      <td>135.000000</td>\n",
       "      <td>3/21/2010</td>\n",
       "      <td>Broomfield, Colorado, USA</td>\n",
       "      <td>USA</td>\n",
       "      <td>Blue</td>\n",
       "      <td>...</td>\n",
       "      <td>NaN</td>\n",
       "      <td>1.0</td>\n",
       "      <td>0:44</td>\n",
       "      <td>44.0</td>\n",
       "      <td>NaN</td>\n",
       "      <td>NaN</td>\n",
       "      <td>NaN</td>\n",
       "      <td>NaN</td>\n",
       "      <td>NaN</td>\n",
       "      <td>NaN</td>\n",
       "    </tr>\n",
       "    <tr>\n",
       "      <th>4892</th>\n",
       "      <td>John Howard</td>\n",
       "      <td>Daniel Roberts</td>\n",
       "      <td>-210.0</td>\n",
       "      <td>175</td>\n",
       "      <td>47.619048</td>\n",
       "      <td>175.000000</td>\n",
       "      <td>3/21/2010</td>\n",
       "      <td>Broomfield, Colorado, USA</td>\n",
       "      <td>USA</td>\n",
       "      <td>Red</td>\n",
       "      <td>...</td>\n",
       "      <td>Punch</td>\n",
       "      <td>1.0</td>\n",
       "      <td>2:01</td>\n",
       "      <td>121.0</td>\n",
       "      <td>NaN</td>\n",
       "      <td>NaN</td>\n",
       "      <td>NaN</td>\n",
       "      <td>NaN</td>\n",
       "      <td>NaN</td>\n",
       "      <td>NaN</td>\n",
       "    </tr>\n",
       "    <tr>\n",
       "      <th>4893</th>\n",
       "      <td>Brendan Schaub</td>\n",
       "      <td>Chase Gormley</td>\n",
       "      <td>-260.0</td>\n",
       "      <td>220</td>\n",
       "      <td>38.461538</td>\n",
       "      <td>220.000000</td>\n",
       "      <td>3/21/2010</td>\n",
       "      <td>Broomfield, Colorado, USA</td>\n",
       "      <td>USA</td>\n",
       "      <td>Red</td>\n",
       "      <td>...</td>\n",
       "      <td>Punches</td>\n",
       "      <td>1.0</td>\n",
       "      <td>0:47</td>\n",
       "      <td>47.0</td>\n",
       "      <td>NaN</td>\n",
       "      <td>NaN</td>\n",
       "      <td>NaN</td>\n",
       "      <td>NaN</td>\n",
       "      <td>NaN</td>\n",
       "      <td>NaN</td>\n",
       "    </tr>\n",
       "    <tr>\n",
       "      <th>4894</th>\n",
       "      <td>Mike Pierce</td>\n",
       "      <td>Julio Paulino</td>\n",
       "      <td>-420.0</td>\n",
       "      <td>335</td>\n",
       "      <td>23.809524</td>\n",
       "      <td>335.000000</td>\n",
       "      <td>3/21/2010</td>\n",
       "      <td>Broomfield, Colorado, USA</td>\n",
       "      <td>USA</td>\n",
       "      <td>Red</td>\n",
       "      <td>...</td>\n",
       "      <td>NaN</td>\n",
       "      <td>3.0</td>\n",
       "      <td>5:00</td>\n",
       "      <td>900.0</td>\n",
       "      <td>NaN</td>\n",
       "      <td>NaN</td>\n",
       "      <td>NaN</td>\n",
       "      <td>NaN</td>\n",
       "      <td>NaN</td>\n",
       "      <td>NaN</td>\n",
       "    </tr>\n",
       "    <tr>\n",
       "      <th>4895</th>\n",
       "      <td>Eric Schafer</td>\n",
       "      <td>Jason Brilz</td>\n",
       "      <td>140.0</td>\n",
       "      <td>-160</td>\n",
       "      <td>140.000000</td>\n",
       "      <td>62.500000</td>\n",
       "      <td>3/21/2010</td>\n",
       "      <td>Broomfield, Colorado, USA</td>\n",
       "      <td>USA</td>\n",
       "      <td>Blue</td>\n",
       "      <td>...</td>\n",
       "      <td>NaN</td>\n",
       "      <td>3.0</td>\n",
       "      <td>5:00</td>\n",
       "      <td>900.0</td>\n",
       "      <td>NaN</td>\n",
       "      <td>NaN</td>\n",
       "      <td>NaN</td>\n",
       "      <td>NaN</td>\n",
       "      <td>NaN</td>\n",
       "      <td>NaN</td>\n",
       "    </tr>\n",
       "  </tbody>\n",
       "</table>\n",
       "<p>4896 rows × 119 columns</p>\n",
       "</div>"
      ],
      "text/plain": [
       "                R_fighter        B_fighter  R_odds  B_odds        R_ev  \\\n",
       "0           Thiago Santos    Johnny Walker  -150.0     130   66.666667   \n",
       "1           Alex Oliveira       Niko Price   170.0    -200  170.000000   \n",
       "2          Misha Cirkunov  Krzysztof Jotko   110.0    -130  110.000000   \n",
       "3     Alexander Hernandez     Mike Breeden  -675.0     475   14.814815   \n",
       "4             Joe Solecki     Jared Gordon  -135.0     115   74.074074   \n",
       "...                   ...              ...     ...     ...         ...   \n",
       "4891         Duane Ludwig    Darren Elkins  -155.0     135   64.516129   \n",
       "4892          John Howard   Daniel Roberts  -210.0     175   47.619048   \n",
       "4893       Brendan Schaub    Chase Gormley  -260.0     220   38.461538   \n",
       "4894          Mike Pierce    Julio Paulino  -420.0     335   23.809524   \n",
       "4895         Eric Schafer      Jason Brilz   140.0    -160  140.000000   \n",
       "\n",
       "            B_ev        date                   location country Winner  ...  \\\n",
       "0     130.000000  2021-10-02     Las Vegas, Nevada, USA     USA    Red  ...   \n",
       "1      50.000000  2021-10-02     Las Vegas, Nevada, USA     USA   Blue  ...   \n",
       "2      76.923077  2021-10-02     Las Vegas, Nevada, USA     USA   Blue  ...   \n",
       "3     475.000000  2021-10-02     Las Vegas, Nevada, USA     USA    Red  ...   \n",
       "4     115.000000  2021-10-02     Las Vegas, Nevada, USA     USA   Blue  ...   \n",
       "...          ...         ...                        ...     ...    ...  ...   \n",
       "4891  135.000000   3/21/2010  Broomfield, Colorado, USA     USA   Blue  ...   \n",
       "4892  175.000000   3/21/2010  Broomfield, Colorado, USA     USA    Red  ...   \n",
       "4893  220.000000   3/21/2010  Broomfield, Colorado, USA     USA    Red  ...   \n",
       "4894  335.000000   3/21/2010  Broomfield, Colorado, USA     USA    Red  ...   \n",
       "4895   62.500000   3/21/2010  Broomfield, Colorado, USA     USA   Blue  ...   \n",
       "\n",
       "      finish_details finish_round finish_round_time  total_fight_time_secs  \\\n",
       "0                NaN          5.0              5:00                 1500.0   \n",
       "1                NaN          3.0              5:00                  900.0   \n",
       "2                NaN          3.0              5:00                  900.0   \n",
       "3              Punch          1.0              1:20                   80.0   \n",
       "4                NaN          3.0              5:00                  900.0   \n",
       "...              ...          ...               ...                    ...   \n",
       "4891             NaN          1.0              0:44                   44.0   \n",
       "4892           Punch          1.0              2:01                  121.0   \n",
       "4893         Punches          1.0              0:47                   47.0   \n",
       "4894             NaN          3.0              5:00                  900.0   \n",
       "4895             NaN          3.0              5:00                  900.0   \n",
       "\n",
       "      r_dec_odds  b_dec_odds  r_sub_odds  b_sub_odds  r_ko_odds  b_ko_odds  \n",
       "0          800.0       900.0      2000.0      1600.0     -110.0      175.0  \n",
       "1          450.0       350.0       700.0      1100.0      550.0      120.0  \n",
       "2          550.0       275.0       275.0      1400.0      600.0      185.0  \n",
       "3          175.0       900.0       500.0      3500.0      110.0     1100.0  \n",
       "4          165.0       200.0       400.0      1200.0      900.0      600.0  \n",
       "...          ...         ...         ...         ...        ...        ...  \n",
       "4891         NaN         NaN         NaN         NaN        NaN        NaN  \n",
       "4892         NaN         NaN         NaN         NaN        NaN        NaN  \n",
       "4893         NaN         NaN         NaN         NaN        NaN        NaN  \n",
       "4894         NaN         NaN         NaN         NaN        NaN        NaN  \n",
       "4895         NaN         NaN         NaN         NaN        NaN        NaN  \n",
       "\n",
       "[4896 rows x 119 columns]"
      ]
     },
     "execution_count": 439,
     "metadata": {},
     "output_type": "execute_result"
    }
   ],
   "source": [
    "dataset"
   ]
  },
  {
   "cell_type": "markdown",
   "metadata": {},
   "source": [
    "# 4. Data Definition"
   ]
  },
  {
   "cell_type": "code",
   "execution_count": 440,
   "metadata": {},
   "outputs": [
    {
     "data": {
      "text/plain": [
       "Winner\n",
       "Red       2859\n",
       "Blue      2037\n",
       "dtype: int64"
      ]
     },
     "execution_count": 440,
     "metadata": {},
     "output_type": "execute_result"
    }
   ],
   "source": [
    "# the target for our project would be 'Winner', let's assign it on our config file\n",
    "# and check our target field\n",
    "\n",
    "target = ['Winner']\n",
    "dataset[target].value_counts()"
   ]
  },
  {
   "cell_type": "code",
   "execution_count": 441,
   "metadata": {},
   "outputs": [
    {
     "data": {
      "text/plain": [
       "Winner\n",
       "1         2859\n",
       "0         2037\n",
       "dtype: int64"
      ]
     },
     "execution_count": 441,
     "metadata": {},
     "output_type": "execute_result"
    }
   ],
   "source": [
    "# it only has two values, so we would make the classification binary\n",
    "# let's assign 1 for Red, and 0 for Blue\n",
    "\n",
    "winner_series = dataset[target].copy()\n",
    "winner_series.replace('Red', 1, inplace=True)\n",
    "winner_series.replace('Blue', 0, inplace=True)\n",
    "winner_series.value_counts()"
   ]
  },
  {
   "cell_type": "code",
   "execution_count": 442,
   "metadata": {},
   "outputs": [
    {
     "data": {
      "text/html": [
       "<div>\n",
       "<style scoped>\n",
       "    .dataframe tbody tr th:only-of-type {\n",
       "        vertical-align: middle;\n",
       "    }\n",
       "\n",
       "    .dataframe tbody tr th {\n",
       "        vertical-align: top;\n",
       "    }\n",
       "\n",
       "    .dataframe thead th {\n",
       "        text-align: right;\n",
       "    }\n",
       "</style>\n",
       "<table border=\"1\" class=\"dataframe\">\n",
       "  <thead>\n",
       "    <tr style=\"text-align: right;\">\n",
       "      <th></th>\n",
       "      <th>Winner</th>\n",
       "    </tr>\n",
       "  </thead>\n",
       "  <tbody>\n",
       "    <tr>\n",
       "      <th>0</th>\n",
       "      <td>1</td>\n",
       "    </tr>\n",
       "    <tr>\n",
       "      <th>1</th>\n",
       "      <td>0</td>\n",
       "    </tr>\n",
       "    <tr>\n",
       "      <th>2</th>\n",
       "      <td>0</td>\n",
       "    </tr>\n",
       "    <tr>\n",
       "      <th>3</th>\n",
       "      <td>1</td>\n",
       "    </tr>\n",
       "    <tr>\n",
       "      <th>4</th>\n",
       "      <td>0</td>\n",
       "    </tr>\n",
       "    <tr>\n",
       "      <th>...</th>\n",
       "      <td>...</td>\n",
       "    </tr>\n",
       "    <tr>\n",
       "      <th>4891</th>\n",
       "      <td>0</td>\n",
       "    </tr>\n",
       "    <tr>\n",
       "      <th>4892</th>\n",
       "      <td>1</td>\n",
       "    </tr>\n",
       "    <tr>\n",
       "      <th>4893</th>\n",
       "      <td>1</td>\n",
       "    </tr>\n",
       "    <tr>\n",
       "      <th>4894</th>\n",
       "      <td>1</td>\n",
       "    </tr>\n",
       "    <tr>\n",
       "      <th>4895</th>\n",
       "      <td>0</td>\n",
       "    </tr>\n",
       "  </tbody>\n",
       "</table>\n",
       "<p>4896 rows × 1 columns</p>\n",
       "</div>"
      ],
      "text/plain": [
       "      Winner\n",
       "0          1\n",
       "1          0\n",
       "2          0\n",
       "3          1\n",
       "4          0\n",
       "...      ...\n",
       "4891       0\n",
       "4892       1\n",
       "4893       1\n",
       "4894       1\n",
       "4895       0\n",
       "\n",
       "[4896 rows x 1 columns]"
      ]
     },
     "execution_count": 442,
     "metadata": {},
     "output_type": "execute_result"
    }
   ],
   "source": [
    "dataset[target] = winner_series\n",
    "dataset[target]"
   ]
  },
  {
   "cell_type": "code",
   "execution_count": 443,
   "metadata": {},
   "outputs": [],
   "source": [
    "# also notice that our dataset contains many fields\n",
    "# let's check if we can drop some of the fields that wouldn't be need for our project"
   ]
  },
  {
   "cell_type": "code",
   "execution_count": 444,
   "metadata": {},
   "outputs": [
    {
     "data": {
      "text/plain": [
       "52"
      ]
     },
     "execution_count": 444,
     "metadata": {},
     "output_type": "execute_result"
    }
   ],
   "source": [
    "# counting number of field that has a nan value\n",
    "dataset.isnull().sum().loc[lambda x : x >= 1].count()"
   ]
  },
  {
   "cell_type": "code",
   "execution_count": 445,
   "metadata": {},
   "outputs": [
    {
     "data": {
      "text/plain": [
       "B_Women's Featherweight_rank    4896\n",
       "R_Women's Featherweight_rank    4889\n",
       "B_Pound-for-Pound_rank          4861\n",
       "B_Women's Flyweight_rank        4852\n",
       "R_Women's Flyweight_rank        4837\n",
       "B_Women's Strawweight_rank      4835\n",
       "B_Women's Bantamweight_rank     4818\n",
       "B_Bantamweight_rank             4811\n",
       "B_Lightweight_rank              4809\n",
       "B_Welterweight_rank             4807\n",
       "B_Featherweight_rank            4806\n",
       "B_Light Heavyweight_rank        4803\n",
       "B_Flyweight_rank                4801\n",
       "B_Middleweight_rank             4794\n",
       "R_Women's Strawweight_rank      4792\n",
       "B_Heavyweight_rank              4786\n",
       "R_Women's Bantamweight_rank     4778\n",
       "R_Featherweight_rank            4763\n",
       "R_Middleweight_rank             4762\n",
       "R_Bantamweight_rank             4759\n",
       "R_Lightweight_rank              4757\n",
       "R_Welterweight_rank             4756\n",
       "R_Light Heavyweight_rank        4755\n",
       "R_Flyweight_rank                4754\n",
       "R_Heavyweight_rank              4754\n",
       "R_Pound-for-Pound_rank          4730\n",
       "B_match_weightclass_rank        4019\n",
       "R_match_weightclass_rank        3568\n",
       "finish_details                  2794\n",
       "b_ko_odds                       1062\n",
       "b_sub_odds                      1061\n",
       "r_sub_odds                      1049\n",
       "r_ko_odds                       1049\n",
       "B_avg_SIG_STR_landed             930\n",
       "B_avg_TD_pct                     842\n",
       "B_avg_TD_landed                  833\n",
       "B_avg_SUB_ATT                    832\n",
       "b_dec_odds                       819\n",
       "r_dec_odds                       803\n",
       "B_avg_SIG_STR_pct                765\n",
       "finish_round                     622\n",
       "finish_round_time                622\n",
       "total_fight_time_secs            622\n",
       "R_avg_SIG_STR_landed             455\n",
       "R_avg_TD_pct                     367\n",
       "R_avg_SIG_STR_pct                357\n",
       "R_avg_SUB_ATT                    357\n",
       "R_avg_TD_landed                  357\n",
       "finish                           238\n",
       "B_Stance                           2\n",
       "R_ev                               1\n",
       "R_odds                             1\n",
       "dtype: int64"
      ]
     },
     "execution_count": 445,
     "metadata": {},
     "output_type": "execute_result"
    }
   ],
   "source": [
    "dataset.isnull().sum().loc[lambda x : x >= 1].sort_values(ascending=False)"
   ]
  },
  {
   "cell_type": "code",
   "execution_count": 446,
   "metadata": {},
   "outputs": [],
   "source": [
    "# many '*_rank' field don't have values because the fighter didn't fight in that weight class\n",
    "# we will omit them, but first let's check every field that have 'rank' in them"
   ]
  },
  {
   "cell_type": "code",
   "execution_count": 447,
   "metadata": {},
   "outputs": [
    {
     "data": {
      "text/plain": [
       "Index(['B_match_weightclass_rank', 'R_match_weightclass_rank',\n",
       "       'R_Women's Flyweight_rank', 'R_Women's Featherweight_rank',\n",
       "       'R_Women's Strawweight_rank', 'R_Women's Bantamweight_rank',\n",
       "       'R_Heavyweight_rank', 'R_Light Heavyweight_rank', 'R_Middleweight_rank',\n",
       "       'R_Welterweight_rank', 'R_Lightweight_rank', 'R_Featherweight_rank',\n",
       "       'R_Bantamweight_rank', 'R_Flyweight_rank', 'R_Pound-for-Pound_rank',\n",
       "       'B_Women's Flyweight_rank', 'B_Women's Featherweight_rank',\n",
       "       'B_Women's Strawweight_rank', 'B_Women's Bantamweight_rank',\n",
       "       'B_Heavyweight_rank', 'B_Light Heavyweight_rank', 'B_Middleweight_rank',\n",
       "       'B_Welterweight_rank', 'B_Lightweight_rank', 'B_Featherweight_rank',\n",
       "       'B_Bantamweight_rank', 'B_Flyweight_rank', 'B_Pound-for-Pound_rank',\n",
       "       'better_rank'],\n",
       "      dtype='object')"
      ]
     },
     "execution_count": 447,
     "metadata": {},
     "output_type": "execute_result"
    }
   ],
   "source": [
    "rank_field_ind = dataset.columns.str.contains('rank')\n",
    "dataset.columns[rank_field_ind]"
   ]
  },
  {
   "cell_type": "code",
   "execution_count": 448,
   "metadata": {},
   "outputs": [],
   "source": [
    "# we want to omit all above except 'better_rank'"
   ]
  },
  {
   "cell_type": "code",
   "execution_count": 449,
   "metadata": {},
   "outputs": [
    {
     "data": {
      "text/plain": [
       "Index(['R_fighter', 'B_fighter', 'R_odds', 'B_odds', 'R_ev', 'B_ev', 'date',\n",
       "       'location', 'country', 'Winner', 'title_bout', 'weight_class', 'gender',\n",
       "       'no_of_rounds', 'B_current_lose_streak', 'B_current_win_streak',\n",
       "       'B_draw', 'B_avg_SIG_STR_landed', 'B_avg_SIG_STR_pct', 'B_avg_SUB_ATT',\n",
       "       'B_avg_TD_landed', 'B_avg_TD_pct', 'B_longest_win_streak', 'B_losses',\n",
       "       'B_total_rounds_fought', 'B_total_title_bouts',\n",
       "       'B_win_by_Decision_Majority', 'B_win_by_Decision_Split',\n",
       "       'B_win_by_Decision_Unanimous', 'B_win_by_KO/TKO', 'B_win_by_Submission',\n",
       "       'B_win_by_TKO_Doctor_Stoppage', 'B_wins', 'B_Stance', 'B_Height_cms',\n",
       "       'B_Reach_cms', 'B_Weight_lbs', 'R_current_lose_streak',\n",
       "       'R_current_win_streak', 'R_draw', 'R_avg_SIG_STR_landed',\n",
       "       'R_avg_SIG_STR_pct', 'R_avg_SUB_ATT', 'R_avg_TD_landed', 'R_avg_TD_pct',\n",
       "       'R_longest_win_streak', 'R_losses', 'R_total_rounds_fought',\n",
       "       'R_total_title_bouts', 'R_win_by_Decision_Majority',\n",
       "       'R_win_by_Decision_Split', 'R_win_by_Decision_Unanimous',\n",
       "       'R_win_by_KO/TKO', 'R_win_by_Submission',\n",
       "       'R_win_by_TKO_Doctor_Stoppage', 'R_wins', 'R_Stance', 'R_Height_cms',\n",
       "       'R_Reach_cms', 'R_Weight_lbs', 'R_age', 'B_age', 'lose_streak_dif',\n",
       "       'win_streak_dif', 'longest_win_streak_dif', 'win_dif', 'loss_dif',\n",
       "       'total_round_dif', 'total_title_bout_dif', 'ko_dif', 'sub_dif',\n",
       "       'height_dif', 'reach_dif', 'age_dif', 'sig_str_dif', 'avg_sub_att_dif',\n",
       "       'avg_td_dif', 'empty_arena', 'constant_1', 'better_rank', 'finish',\n",
       "       'finish_details', 'finish_round', 'finish_round_time',\n",
       "       'total_fight_time_secs', 'r_dec_odds', 'b_dec_odds', 'r_sub_odds',\n",
       "       'b_sub_odds', 'r_ko_odds', 'b_ko_odds'],\n",
       "      dtype='object')"
      ]
     },
     "execution_count": 449,
     "metadata": {},
     "output_type": "execute_result"
    }
   ],
   "source": [
    "field_to_omit = dataset.columns[rank_field_ind][:-1]\n",
    "dataset_omitted_1 = dataset.drop(columns=field_to_omit)\n",
    "dataset_omitted_1.columns"
   ]
  },
  {
   "cell_type": "code",
   "execution_count": 450,
   "metadata": {},
   "outputs": [
    {
     "data": {
      "text/html": [
       "<div>\n",
       "<style scoped>\n",
       "    .dataframe tbody tr th:only-of-type {\n",
       "        vertical-align: middle;\n",
       "    }\n",
       "\n",
       "    .dataframe tbody tr th {\n",
       "        vertical-align: top;\n",
       "    }\n",
       "\n",
       "    .dataframe thead th {\n",
       "        text-align: right;\n",
       "    }\n",
       "</style>\n",
       "<table border=\"1\" class=\"dataframe\">\n",
       "  <thead>\n",
       "    <tr style=\"text-align: right;\">\n",
       "      <th></th>\n",
       "      <th>R_fighter</th>\n",
       "      <th>B_fighter</th>\n",
       "      <th>R_odds</th>\n",
       "      <th>B_odds</th>\n",
       "      <th>R_ev</th>\n",
       "      <th>B_ev</th>\n",
       "      <th>date</th>\n",
       "      <th>location</th>\n",
       "      <th>country</th>\n",
       "      <th>Winner</th>\n",
       "      <th>...</th>\n",
       "      <th>finish_details</th>\n",
       "      <th>finish_round</th>\n",
       "      <th>finish_round_time</th>\n",
       "      <th>total_fight_time_secs</th>\n",
       "      <th>r_dec_odds</th>\n",
       "      <th>b_dec_odds</th>\n",
       "      <th>r_sub_odds</th>\n",
       "      <th>b_sub_odds</th>\n",
       "      <th>r_ko_odds</th>\n",
       "      <th>b_ko_odds</th>\n",
       "    </tr>\n",
       "  </thead>\n",
       "  <tbody>\n",
       "    <tr>\n",
       "      <th>0</th>\n",
       "      <td>Thiago Santos</td>\n",
       "      <td>Johnny Walker</td>\n",
       "      <td>-150.0</td>\n",
       "      <td>130</td>\n",
       "      <td>66.666667</td>\n",
       "      <td>130.000000</td>\n",
       "      <td>2021-10-02</td>\n",
       "      <td>Las Vegas, Nevada, USA</td>\n",
       "      <td>USA</td>\n",
       "      <td>1</td>\n",
       "      <td>...</td>\n",
       "      <td>NaN</td>\n",
       "      <td>5.0</td>\n",
       "      <td>5:00</td>\n",
       "      <td>1500.0</td>\n",
       "      <td>800.0</td>\n",
       "      <td>900.0</td>\n",
       "      <td>2000.0</td>\n",
       "      <td>1600.0</td>\n",
       "      <td>-110.0</td>\n",
       "      <td>175.0</td>\n",
       "    </tr>\n",
       "    <tr>\n",
       "      <th>1</th>\n",
       "      <td>Alex Oliveira</td>\n",
       "      <td>Niko Price</td>\n",
       "      <td>170.0</td>\n",
       "      <td>-200</td>\n",
       "      <td>170.000000</td>\n",
       "      <td>50.000000</td>\n",
       "      <td>2021-10-02</td>\n",
       "      <td>Las Vegas, Nevada, USA</td>\n",
       "      <td>USA</td>\n",
       "      <td>0</td>\n",
       "      <td>...</td>\n",
       "      <td>NaN</td>\n",
       "      <td>3.0</td>\n",
       "      <td>5:00</td>\n",
       "      <td>900.0</td>\n",
       "      <td>450.0</td>\n",
       "      <td>350.0</td>\n",
       "      <td>700.0</td>\n",
       "      <td>1100.0</td>\n",
       "      <td>550.0</td>\n",
       "      <td>120.0</td>\n",
       "    </tr>\n",
       "    <tr>\n",
       "      <th>2</th>\n",
       "      <td>Misha Cirkunov</td>\n",
       "      <td>Krzysztof Jotko</td>\n",
       "      <td>110.0</td>\n",
       "      <td>-130</td>\n",
       "      <td>110.000000</td>\n",
       "      <td>76.923077</td>\n",
       "      <td>2021-10-02</td>\n",
       "      <td>Las Vegas, Nevada, USA</td>\n",
       "      <td>USA</td>\n",
       "      <td>0</td>\n",
       "      <td>...</td>\n",
       "      <td>NaN</td>\n",
       "      <td>3.0</td>\n",
       "      <td>5:00</td>\n",
       "      <td>900.0</td>\n",
       "      <td>550.0</td>\n",
       "      <td>275.0</td>\n",
       "      <td>275.0</td>\n",
       "      <td>1400.0</td>\n",
       "      <td>600.0</td>\n",
       "      <td>185.0</td>\n",
       "    </tr>\n",
       "    <tr>\n",
       "      <th>3</th>\n",
       "      <td>Alexander Hernandez</td>\n",
       "      <td>Mike Breeden</td>\n",
       "      <td>-675.0</td>\n",
       "      <td>475</td>\n",
       "      <td>14.814815</td>\n",
       "      <td>475.000000</td>\n",
       "      <td>2021-10-02</td>\n",
       "      <td>Las Vegas, Nevada, USA</td>\n",
       "      <td>USA</td>\n",
       "      <td>1</td>\n",
       "      <td>...</td>\n",
       "      <td>Punch</td>\n",
       "      <td>1.0</td>\n",
       "      <td>1:20</td>\n",
       "      <td>80.0</td>\n",
       "      <td>175.0</td>\n",
       "      <td>900.0</td>\n",
       "      <td>500.0</td>\n",
       "      <td>3500.0</td>\n",
       "      <td>110.0</td>\n",
       "      <td>1100.0</td>\n",
       "    </tr>\n",
       "    <tr>\n",
       "      <th>4</th>\n",
       "      <td>Joe Solecki</td>\n",
       "      <td>Jared Gordon</td>\n",
       "      <td>-135.0</td>\n",
       "      <td>115</td>\n",
       "      <td>74.074074</td>\n",
       "      <td>115.000000</td>\n",
       "      <td>2021-10-02</td>\n",
       "      <td>Las Vegas, Nevada, USA</td>\n",
       "      <td>USA</td>\n",
       "      <td>0</td>\n",
       "      <td>...</td>\n",
       "      <td>NaN</td>\n",
       "      <td>3.0</td>\n",
       "      <td>5:00</td>\n",
       "      <td>900.0</td>\n",
       "      <td>165.0</td>\n",
       "      <td>200.0</td>\n",
       "      <td>400.0</td>\n",
       "      <td>1200.0</td>\n",
       "      <td>900.0</td>\n",
       "      <td>600.0</td>\n",
       "    </tr>\n",
       "  </tbody>\n",
       "</table>\n",
       "<p>5 rows × 91 columns</p>\n",
       "</div>"
      ],
      "text/plain": [
       "             R_fighter        B_fighter  R_odds  B_odds        R_ev  \\\n",
       "0        Thiago Santos    Johnny Walker  -150.0     130   66.666667   \n",
       "1        Alex Oliveira       Niko Price   170.0    -200  170.000000   \n",
       "2       Misha Cirkunov  Krzysztof Jotko   110.0    -130  110.000000   \n",
       "3  Alexander Hernandez     Mike Breeden  -675.0     475   14.814815   \n",
       "4          Joe Solecki     Jared Gordon  -135.0     115   74.074074   \n",
       "\n",
       "         B_ev        date                location country  Winner  ...  \\\n",
       "0  130.000000  2021-10-02  Las Vegas, Nevada, USA     USA       1  ...   \n",
       "1   50.000000  2021-10-02  Las Vegas, Nevada, USA     USA       0  ...   \n",
       "2   76.923077  2021-10-02  Las Vegas, Nevada, USA     USA       0  ...   \n",
       "3  475.000000  2021-10-02  Las Vegas, Nevada, USA     USA       1  ...   \n",
       "4  115.000000  2021-10-02  Las Vegas, Nevada, USA     USA       0  ...   \n",
       "\n",
       "   finish_details finish_round finish_round_time  total_fight_time_secs  \\\n",
       "0             NaN          5.0              5:00                 1500.0   \n",
       "1             NaN          3.0              5:00                  900.0   \n",
       "2             NaN          3.0              5:00                  900.0   \n",
       "3           Punch          1.0              1:20                   80.0   \n",
       "4             NaN          3.0              5:00                  900.0   \n",
       "\n",
       "   r_dec_odds  b_dec_odds  r_sub_odds  b_sub_odds  r_ko_odds  b_ko_odds  \n",
       "0       800.0       900.0      2000.0      1600.0     -110.0      175.0  \n",
       "1       450.0       350.0       700.0      1100.0      550.0      120.0  \n",
       "2       550.0       275.0       275.0      1400.0      600.0      185.0  \n",
       "3       175.0       900.0       500.0      3500.0      110.0     1100.0  \n",
       "4       165.0       200.0       400.0      1200.0      900.0      600.0  \n",
       "\n",
       "[5 rows x 91 columns]"
      ]
     },
     "execution_count": 450,
     "metadata": {},
     "output_type": "execute_result"
    }
   ],
   "source": [
    "dataset_omitted_1.head()"
   ]
  },
  {
   "cell_type": "code",
   "execution_count": 451,
   "metadata": {},
   "outputs": [
    {
     "data": {
      "text/plain": [
       "finish_details           2794\n",
       "b_ko_odds                1062\n",
       "b_sub_odds               1061\n",
       "r_ko_odds                1049\n",
       "r_sub_odds               1049\n",
       "B_avg_SIG_STR_landed      930\n",
       "B_avg_TD_pct              842\n",
       "B_avg_TD_landed           833\n",
       "B_avg_SUB_ATT             832\n",
       "b_dec_odds                819\n",
       "r_dec_odds                803\n",
       "B_avg_SIG_STR_pct         765\n",
       "finish_round_time         622\n",
       "total_fight_time_secs     622\n",
       "finish_round              622\n",
       "R_avg_SIG_STR_landed      455\n",
       "R_avg_TD_pct              367\n",
       "R_avg_TD_landed           357\n",
       "R_avg_SUB_ATT             357\n",
       "R_avg_SIG_STR_pct         357\n",
       "finish                    238\n",
       "B_Stance                    2\n",
       "R_ev                        1\n",
       "R_odds                      1\n",
       "dtype: int64"
      ]
     },
     "execution_count": 451,
     "metadata": {},
     "output_type": "execute_result"
    }
   ],
   "source": [
    "# let's check another fields that has many nan values\n",
    "dataset_omitted_1.isnull().sum().loc[lambda x : x >= 1].sort_values(ascending=False)"
   ]
  },
  {
   "cell_type": "code",
   "execution_count": 452,
   "metadata": {},
   "outputs": [],
   "source": [
    "# there are still several fields contains many nan values\n",
    "# let's check some of them"
   ]
  },
  {
   "cell_type": "code",
   "execution_count": 453,
   "metadata": {},
   "outputs": [
    {
     "data": {
      "text/plain": [
       "Punch                 507\n",
       "Punches               467\n",
       "Rear Naked Choke      331\n",
       "Guillotine Choke      146\n",
       "Kick                  119\n",
       "Armbar                 95\n",
       "Knee                   67\n",
       "Elbows                 60\n",
       "Arm Triangle           58\n",
       "Triangle Choke         46\n",
       "Elbow                  30\n",
       "D'Arce Choke           26\n",
       "Kimura                 21\n",
       "Flying Knee            20\n",
       "Knees                  16\n",
       "Other - Choke          14\n",
       "Anaconda Choke         14\n",
       "Kneebar                12\n",
       "Heel Hook              11\n",
       "Spinning Back Fist      6\n",
       "Slam                    6\n",
       "Spinning Back Kick      6\n",
       "Neck Crank              5\n",
       "Other - Lock            5\n",
       "North-South Choke       4\n",
       "Injury                  3\n",
       "Omoplata                2\n",
       "Kicks                   2\n",
       "Ankle Lock              1\n",
       "Peruvian Necktie        1\n",
       "Keylock                 1\n",
       "Name: finish_details, dtype: int64"
      ]
     },
     "execution_count": 453,
     "metadata": {},
     "output_type": "execute_result"
    }
   ],
   "source": [
    "dataset_omitted_1['finish_details'].value_counts()"
   ]
  },
  {
   "cell_type": "code",
   "execution_count": 454,
   "metadata": {},
   "outputs": [],
   "source": [
    "# 'finish*', '*round*', and '*time*' fields may not be out predictor because they have too many categories and doesn't directly say anything about our fighters\n",
    "# also '*_odds' and '*_ev' fields are out of the scope of our project so let's omit them"
   ]
  },
  {
   "cell_type": "code",
   "execution_count": 455,
   "metadata": {},
   "outputs": [
    {
     "data": {
      "text/plain": [
       "Index(['no_of_rounds', 'B_total_rounds_fought', 'R_total_rounds_fought',\n",
       "       'total_round_dif', 'finish', 'finish_details', 'finish_round',\n",
       "       'finish_round_time', 'total_fight_time_secs'],\n",
       "      dtype='object')"
      ]
     },
     "execution_count": 455,
     "metadata": {},
     "output_type": "execute_result"
    }
   ],
   "source": [
    "frt_field_ind = dataset_omitted_1.columns.str.contains('finish|round|time')\n",
    "dataset_omitted_1.columns[frt_field_ind]"
   ]
  },
  {
   "cell_type": "code",
   "execution_count": 456,
   "metadata": {},
   "outputs": [
    {
     "name": "stderr",
     "output_type": "stream",
     "text": [
      "<ipython-input-456-0cd2ae2a9295>:2: UserWarning: This pattern is interpreted as a regular expression, and has match groups. To actually get the groups, use str.extract.\n",
      "  frt_field_ind = dataset_omitted_1.columns.str.contains(r'^[^BR]*(finish|round|time){1}(.*[^(dif)]$|$)')\n"
     ]
    },
    {
     "data": {
      "text/plain": [
       "Index(['no_of_rounds', 'finish', 'finish_details', 'finish_round',\n",
       "       'finish_round_time', 'total_fight_time_secs'],\n",
       "      dtype='object')"
      ]
     },
     "execution_count": 456,
     "metadata": {},
     "output_type": "execute_result"
    }
   ],
   "source": [
    "# let's not select out 'B_total_rounds_fought', 'R_total_rounds_fought', and 'total_round_dif'\n",
    "frt_field_ind = dataset_omitted_1.columns.str.contains(r'^[^BR]*(finish|round|time){1}(.*[^(dif)]$|$)')\n",
    "dataset_omitted_1.columns[frt_field_ind]"
   ]
  },
  {
   "cell_type": "code",
   "execution_count": 457,
   "metadata": {},
   "outputs": [
    {
     "data": {
      "text/plain": [
       "Index(['R_odds', 'B_odds', 'r_dec_odds', 'b_dec_odds', 'r_sub_odds',\n",
       "       'b_sub_odds', 'r_ko_odds', 'b_ko_odds'],\n",
       "      dtype='object')"
      ]
     },
     "execution_count": 457,
     "metadata": {},
     "output_type": "execute_result"
    }
   ],
   "source": [
    "odds_field_ind = dataset_omitted_1.columns.str.contains('odds')\n",
    "dataset_omitted_1.columns[odds_field_ind]"
   ]
  },
  {
   "cell_type": "code",
   "execution_count": 458,
   "metadata": {},
   "outputs": [
    {
     "data": {
      "text/plain": [
       "Index(['R_ev', 'B_ev'], dtype='object')"
      ]
     },
     "execution_count": 458,
     "metadata": {},
     "output_type": "execute_result"
    }
   ],
   "source": [
    "ev_field_ind = dataset_omitted_1.columns.str.contains('ev')\n",
    "dataset_omitted_1.columns[ev_field_ind]"
   ]
  },
  {
   "cell_type": "code",
   "execution_count": 459,
   "metadata": {},
   "outputs": [
    {
     "data": {
      "text/plain": [
       "Index(['R_fighter', 'B_fighter', 'date', 'location', 'country', 'Winner',\n",
       "       'title_bout', 'weight_class', 'gender', 'B_current_lose_streak',\n",
       "       'B_current_win_streak', 'B_draw', 'B_avg_SIG_STR_landed',\n",
       "       'B_avg_SIG_STR_pct', 'B_avg_SUB_ATT', 'B_avg_TD_landed', 'B_avg_TD_pct',\n",
       "       'B_longest_win_streak', 'B_losses', 'B_total_rounds_fought',\n",
       "       'B_total_title_bouts', 'B_win_by_Decision_Majority',\n",
       "       'B_win_by_Decision_Split', 'B_win_by_Decision_Unanimous',\n",
       "       'B_win_by_KO/TKO', 'B_win_by_Submission',\n",
       "       'B_win_by_TKO_Doctor_Stoppage', 'B_wins', 'B_Stance', 'B_Height_cms',\n",
       "       'B_Reach_cms', 'B_Weight_lbs', 'R_current_lose_streak',\n",
       "       'R_current_win_streak', 'R_draw', 'R_avg_SIG_STR_landed',\n",
       "       'R_avg_SIG_STR_pct', 'R_avg_SUB_ATT', 'R_avg_TD_landed', 'R_avg_TD_pct',\n",
       "       'R_longest_win_streak', 'R_losses', 'R_total_rounds_fought',\n",
       "       'R_total_title_bouts', 'R_win_by_Decision_Majority',\n",
       "       'R_win_by_Decision_Split', 'R_win_by_Decision_Unanimous',\n",
       "       'R_win_by_KO/TKO', 'R_win_by_Submission',\n",
       "       'R_win_by_TKO_Doctor_Stoppage', 'R_wins', 'R_Stance', 'R_Height_cms',\n",
       "       'R_Reach_cms', 'R_Weight_lbs', 'R_age', 'B_age', 'lose_streak_dif',\n",
       "       'win_streak_dif', 'longest_win_streak_dif', 'win_dif', 'loss_dif',\n",
       "       'total_round_dif', 'total_title_bout_dif', 'ko_dif', 'sub_dif',\n",
       "       'height_dif', 'reach_dif', 'age_dif', 'sig_str_dif', 'avg_sub_att_dif',\n",
       "       'avg_td_dif', 'empty_arena', 'constant_1', 'better_rank'],\n",
       "      dtype='object')"
      ]
     },
     "execution_count": 459,
     "metadata": {},
     "output_type": "execute_result"
    }
   ],
   "source": [
    "field_to_omit = dataset_omitted_1.columns[frt_field_ind | odds_field_ind | ev_field_ind]\n",
    "dataset_omitted_2 = dataset_omitted_1.drop(columns=field_to_omit)\n",
    "dataset_omitted_2.columns"
   ]
  },
  {
   "cell_type": "code",
   "execution_count": 460,
   "metadata": {},
   "outputs": [
    {
     "data": {
      "text/html": [
       "<div>\n",
       "<style scoped>\n",
       "    .dataframe tbody tr th:only-of-type {\n",
       "        vertical-align: middle;\n",
       "    }\n",
       "\n",
       "    .dataframe tbody tr th {\n",
       "        vertical-align: top;\n",
       "    }\n",
       "\n",
       "    .dataframe thead th {\n",
       "        text-align: right;\n",
       "    }\n",
       "</style>\n",
       "<table border=\"1\" class=\"dataframe\">\n",
       "  <thead>\n",
       "    <tr style=\"text-align: right;\">\n",
       "      <th></th>\n",
       "      <th>R_fighter</th>\n",
       "      <th>B_fighter</th>\n",
       "      <th>date</th>\n",
       "      <th>location</th>\n",
       "      <th>country</th>\n",
       "      <th>Winner</th>\n",
       "      <th>title_bout</th>\n",
       "      <th>weight_class</th>\n",
       "      <th>gender</th>\n",
       "      <th>B_current_lose_streak</th>\n",
       "      <th>...</th>\n",
       "      <th>sub_dif</th>\n",
       "      <th>height_dif</th>\n",
       "      <th>reach_dif</th>\n",
       "      <th>age_dif</th>\n",
       "      <th>sig_str_dif</th>\n",
       "      <th>avg_sub_att_dif</th>\n",
       "      <th>avg_td_dif</th>\n",
       "      <th>empty_arena</th>\n",
       "      <th>constant_1</th>\n",
       "      <th>better_rank</th>\n",
       "    </tr>\n",
       "  </thead>\n",
       "  <tbody>\n",
       "    <tr>\n",
       "      <th>0</th>\n",
       "      <td>Thiago Santos</td>\n",
       "      <td>Johnny Walker</td>\n",
       "      <td>2021-10-02</td>\n",
       "      <td>Las Vegas, Nevada, USA</td>\n",
       "      <td>USA</td>\n",
       "      <td>1</td>\n",
       "      <td>False</td>\n",
       "      <td>Light Heavyweight</td>\n",
       "      <td>MALE</td>\n",
       "      <td>0</td>\n",
       "      <td>...</td>\n",
       "      <td>0</td>\n",
       "      <td>10.16</td>\n",
       "      <td>15.24</td>\n",
       "      <td>-8</td>\n",
       "      <td>-0.53</td>\n",
       "      <td>0.6</td>\n",
       "      <td>-0.37</td>\n",
       "      <td>1</td>\n",
       "      <td>1</td>\n",
       "      <td>Red</td>\n",
       "    </tr>\n",
       "    <tr>\n",
       "      <th>1</th>\n",
       "      <td>Alex Oliveira</td>\n",
       "      <td>Niko Price</td>\n",
       "      <td>2021-10-02</td>\n",
       "      <td>Las Vegas, Nevada, USA</td>\n",
       "      <td>USA</td>\n",
       "      <td>0</td>\n",
       "      <td>False</td>\n",
       "      <td>Welterweight</td>\n",
       "      <td>MALE</td>\n",
       "      <td>2</td>\n",
       "      <td>...</td>\n",
       "      <td>-1</td>\n",
       "      <td>2.54</td>\n",
       "      <td>0.00</td>\n",
       "      <td>-1</td>\n",
       "      <td>2.19</td>\n",
       "      <td>0.3</td>\n",
       "      <td>-1.48</td>\n",
       "      <td>1</td>\n",
       "      <td>1</td>\n",
       "      <td>neither</td>\n",
       "    </tr>\n",
       "    <tr>\n",
       "      <th>2</th>\n",
       "      <td>Misha Cirkunov</td>\n",
       "      <td>Krzysztof Jotko</td>\n",
       "      <td>2021-10-02</td>\n",
       "      <td>Las Vegas, Nevada, USA</td>\n",
       "      <td>USA</td>\n",
       "      <td>0</td>\n",
       "      <td>False</td>\n",
       "      <td>Middleweight</td>\n",
       "      <td>MALE</td>\n",
       "      <td>1</td>\n",
       "      <td>...</td>\n",
       "      <td>-5</td>\n",
       "      <td>-5.08</td>\n",
       "      <td>0.00</td>\n",
       "      <td>-2</td>\n",
       "      <td>-0.85</td>\n",
       "      <td>-1.6</td>\n",
       "      <td>-3.33</td>\n",
       "      <td>1</td>\n",
       "      <td>1</td>\n",
       "      <td>neither</td>\n",
       "    </tr>\n",
       "    <tr>\n",
       "      <th>3</th>\n",
       "      <td>Alexander Hernandez</td>\n",
       "      <td>Mike Breeden</td>\n",
       "      <td>2021-10-02</td>\n",
       "      <td>Las Vegas, Nevada, USA</td>\n",
       "      <td>USA</td>\n",
       "      <td>1</td>\n",
       "      <td>False</td>\n",
       "      <td>Lightweight</td>\n",
       "      <td>MALE</td>\n",
       "      <td>1</td>\n",
       "      <td>...</td>\n",
       "      <td>0</td>\n",
       "      <td>2.54</td>\n",
       "      <td>-5.08</td>\n",
       "      <td>3</td>\n",
       "      <td>0.25</td>\n",
       "      <td>0.0</td>\n",
       "      <td>-1.57</td>\n",
       "      <td>1</td>\n",
       "      <td>1</td>\n",
       "      <td>neither</td>\n",
       "    </tr>\n",
       "    <tr>\n",
       "      <th>4</th>\n",
       "      <td>Joe Solecki</td>\n",
       "      <td>Jared Gordon</td>\n",
       "      <td>2021-10-02</td>\n",
       "      <td>Las Vegas, Nevada, USA</td>\n",
       "      <td>USA</td>\n",
       "      <td>0</td>\n",
       "      <td>False</td>\n",
       "      <td>Lightweight</td>\n",
       "      <td>MALE</td>\n",
       "      <td>0</td>\n",
       "      <td>...</td>\n",
       "      <td>-2</td>\n",
       "      <td>0.00</td>\n",
       "      <td>-5.08</td>\n",
       "      <td>5</td>\n",
       "      <td>2.58</td>\n",
       "      <td>-0.6</td>\n",
       "      <td>-0.31</td>\n",
       "      <td>1</td>\n",
       "      <td>1</td>\n",
       "      <td>neither</td>\n",
       "    </tr>\n",
       "  </tbody>\n",
       "</table>\n",
       "<p>5 rows × 75 columns</p>\n",
       "</div>"
      ],
      "text/plain": [
       "             R_fighter        B_fighter        date                location  \\\n",
       "0        Thiago Santos    Johnny Walker  2021-10-02  Las Vegas, Nevada, USA   \n",
       "1        Alex Oliveira       Niko Price  2021-10-02  Las Vegas, Nevada, USA   \n",
       "2       Misha Cirkunov  Krzysztof Jotko  2021-10-02  Las Vegas, Nevada, USA   \n",
       "3  Alexander Hernandez     Mike Breeden  2021-10-02  Las Vegas, Nevada, USA   \n",
       "4          Joe Solecki     Jared Gordon  2021-10-02  Las Vegas, Nevada, USA   \n",
       "\n",
       "  country  Winner  title_bout       weight_class gender  \\\n",
       "0     USA       1       False  Light Heavyweight   MALE   \n",
       "1     USA       0       False       Welterweight   MALE   \n",
       "2     USA       0       False       Middleweight   MALE   \n",
       "3     USA       1       False        Lightweight   MALE   \n",
       "4     USA       0       False        Lightweight   MALE   \n",
       "\n",
       "   B_current_lose_streak  ...  sub_dif  height_dif  reach_dif  age_dif  \\\n",
       "0                      0  ...        0       10.16      15.24       -8   \n",
       "1                      2  ...       -1        2.54       0.00       -1   \n",
       "2                      1  ...       -5       -5.08       0.00       -2   \n",
       "3                      1  ...        0        2.54      -5.08        3   \n",
       "4                      0  ...       -2        0.00      -5.08        5   \n",
       "\n",
       "   sig_str_dif  avg_sub_att_dif  avg_td_dif  empty_arena  constant_1  \\\n",
       "0        -0.53              0.6       -0.37            1           1   \n",
       "1         2.19              0.3       -1.48            1           1   \n",
       "2        -0.85             -1.6       -3.33            1           1   \n",
       "3         0.25              0.0       -1.57            1           1   \n",
       "4         2.58             -0.6       -0.31            1           1   \n",
       "\n",
       "   better_rank  \n",
       "0          Red  \n",
       "1      neither  \n",
       "2      neither  \n",
       "3      neither  \n",
       "4      neither  \n",
       "\n",
       "[5 rows x 75 columns]"
      ]
     },
     "execution_count": 460,
     "metadata": {},
     "output_type": "execute_result"
    }
   ],
   "source": [
    "dataset_omitted_2.head()"
   ]
  },
  {
   "cell_type": "code",
   "execution_count": 461,
   "metadata": {},
   "outputs": [
    {
     "data": {
      "text/plain": [
       "B_avg_SIG_STR_landed    930\n",
       "B_avg_TD_pct            842\n",
       "B_avg_TD_landed         833\n",
       "B_avg_SUB_ATT           832\n",
       "B_avg_SIG_STR_pct       765\n",
       "R_avg_SIG_STR_landed    455\n",
       "R_avg_TD_pct            367\n",
       "R_avg_SIG_STR_pct       357\n",
       "R_avg_SUB_ATT           357\n",
       "R_avg_TD_landed         357\n",
       "B_Stance                  2\n",
       "dtype: int64"
      ]
     },
     "execution_count": 461,
     "metadata": {},
     "output_type": "execute_result"
    }
   ],
   "source": [
    "dataset_omitted_2.isnull().sum().loc[lambda x : x >= 1].sort_values(ascending=False)"
   ]
  },
  {
   "cell_type": "code",
   "execution_count": 462,
   "metadata": {},
   "outputs": [
    {
     "data": {
      "text/plain": [
       "Index(['R_fighter', 'B_fighter', 'date', 'location', 'country', 'Winner',\n",
       "       'title_bout', 'weight_class', 'gender', 'B_current_lose_streak',\n",
       "       'B_current_win_streak', 'B_draw', 'B_avg_SIG_STR_landed',\n",
       "       'B_avg_SIG_STR_pct', 'B_avg_SUB_ATT', 'B_avg_TD_landed', 'B_avg_TD_pct',\n",
       "       'B_longest_win_streak', 'B_losses', 'B_total_rounds_fought',\n",
       "       'B_total_title_bouts', 'B_win_by_Decision_Majority',\n",
       "       'B_win_by_Decision_Split', 'B_win_by_Decision_Unanimous',\n",
       "       'B_win_by_KO/TKO', 'B_win_by_Submission',\n",
       "       'B_win_by_TKO_Doctor_Stoppage', 'B_wins', 'B_Stance', 'B_Height_cms',\n",
       "       'B_Reach_cms', 'B_Weight_lbs', 'R_current_lose_streak',\n",
       "       'R_current_win_streak', 'R_draw', 'R_avg_SIG_STR_landed',\n",
       "       'R_avg_SIG_STR_pct', 'R_avg_SUB_ATT', 'R_avg_TD_landed', 'R_avg_TD_pct',\n",
       "       'R_longest_win_streak', 'R_losses', 'R_total_rounds_fought',\n",
       "       'R_total_title_bouts', 'R_win_by_Decision_Majority',\n",
       "       'R_win_by_Decision_Split', 'R_win_by_Decision_Unanimous',\n",
       "       'R_win_by_KO/TKO', 'R_win_by_Submission',\n",
       "       'R_win_by_TKO_Doctor_Stoppage', 'R_wins', 'R_Stance', 'R_Height_cms',\n",
       "       'R_Reach_cms', 'R_Weight_lbs', 'R_age', 'B_age', 'lose_streak_dif',\n",
       "       'win_streak_dif', 'longest_win_streak_dif', 'win_dif', 'loss_dif',\n",
       "       'total_round_dif', 'total_title_bout_dif', 'ko_dif', 'sub_dif',\n",
       "       'height_dif', 'reach_dif', 'age_dif', 'sig_str_dif', 'avg_sub_att_dif',\n",
       "       'avg_td_dif', 'empty_arena', 'constant_1', 'better_rank'],\n",
       "      dtype='object')"
      ]
     },
     "execution_count": 462,
     "metadata": {},
     "output_type": "execute_result"
    }
   ],
   "source": [
    "dataset_omitted_2.columns"
   ]
  },
  {
   "cell_type": "code",
   "execution_count": 463,
   "metadata": {},
   "outputs": [
    {
     "data": {
      "text/plain": [
       "['lose_streak_dif',\n",
       " 'win_streak_dif',\n",
       " 'longest_win_streak_dif',\n",
       " 'win_dif',\n",
       " 'loss_dif',\n",
       " 'total_round_dif',\n",
       " 'total_title_bout_dif',\n",
       " 'ko_dif',\n",
       " 'sub_dif',\n",
       " 'height_dif',\n",
       " 'reach_dif',\n",
       " 'age_dif',\n",
       " 'sig_str_dif',\n",
       " 'avg_sub_att_dif',\n",
       " 'avg_td_dif']"
      ]
     },
     "execution_count": 463,
     "metadata": {},
     "output_type": "execute_result"
    }
   ],
   "source": [
    "# we are still left with many features we can choose from\n",
    "# for the sake of efficiency and interpretability, we are only going to\n",
    "# take the 'dif' fields as predictor candidates\n",
    "\n",
    "dif_ind = dataset_omitted_2.columns.str.contains('dif', case=False)\n",
    "dif = dataset_omitted_2.columns[dif_ind].to_list()\n",
    "dif"
   ]
  },
  {
   "cell_type": "markdown",
   "metadata": {},
   "source": [
    "# 5. Data Validation"
   ]
  },
  {
   "cell_type": "code",
   "execution_count": 464,
   "metadata": {},
   "outputs": [],
   "source": [
    "# from this predictors we're going to validate using our fighters data\n",
    "\n",
    "dataset_defined = dataset_omitted_2 #renaming\n",
    "\n",
    "def check_fields(df:pd.DataFrame, keyword:str) -> list:\n",
    "    # checks if given dataframe has fields with keywords\n",
    "    field_ind = df.columns.str.contains(keyword, case=False)\n",
    "    fields = df.columns[field_ind].to_list()\n",
    "\n",
    "    return fields\n",
    "\n",
    "def generate_dif(red:pd.Series, blue:pd.Series) -> pd.Series:\n",
    "    diff = list()\n",
    "    for i in range(len(red)):\n",
    "        diff.append(red[i] - blue[i])\n",
    "    \n",
    "    diff = pd.Series(diff)\n",
    "    \n",
    "    return diff\n",
    "\n"
   ]
  },
  {
   "cell_type": "code",
   "execution_count": 465,
   "metadata": {},
   "outputs": [
    {
     "data": {
      "text/plain": [
       "'lose_streak_dif'"
      ]
     },
     "execution_count": 465,
     "metadata": {},
     "output_type": "execute_result"
    }
   ],
   "source": [
    "dif[0]"
   ]
  },
  {
   "cell_type": "code",
   "execution_count": 466,
   "metadata": {},
   "outputs": [
    {
     "data": {
      "text/plain": [
       "['B_current_lose_streak', 'R_current_lose_streak', 'lose_streak_dif']"
      ]
     },
     "execution_count": 466,
     "metadata": {},
     "output_type": "execute_result"
    }
   ],
   "source": [
    "check_fields(dataset_defined, 'lose')"
   ]
  },
  {
   "cell_type": "code",
   "execution_count": 467,
   "metadata": {},
   "outputs": [
    {
     "data": {
      "text/plain": [
       "0       3\n",
       "1       0\n",
       "2       0\n",
       "3       0\n",
       "4       0\n",
       "       ..\n",
       "4891    1\n",
       "4892    0\n",
       "4893    0\n",
       "4894    1\n",
       "4895    0\n",
       "Length: 4896, dtype: int64"
      ]
     },
     "execution_count": 467,
     "metadata": {},
     "output_type": "execute_result"
    }
   ],
   "source": [
    "lose_streak_dif = generate_dif(red = dataset_defined['R_current_lose_streak'],\n",
    "                               blue = dataset_defined['B_current_lose_streak'])\n",
    "lose_streak_dif"
   ]
  },
  {
   "cell_type": "code",
   "execution_count": 468,
   "metadata": {},
   "outputs": [
    {
     "data": {
      "text/plain": [
       "0      -3\n",
       "1       0\n",
       "2       0\n",
       "3       0\n",
       "4       0\n",
       "       ..\n",
       "4891    1\n",
       "4892    0\n",
       "4893    0\n",
       "4894    1\n",
       "4895    0\n",
       "Name: lose_streak_dif, Length: 4896, dtype: int64"
      ]
     },
     "execution_count": 468,
     "metadata": {},
     "output_type": "execute_result"
    }
   ],
   "source": [
    "dataset_defined['lose_streak_dif']"
   ]
  },
  {
   "cell_type": "code",
   "execution_count": 469,
   "metadata": {},
   "outputs": [
    {
     "data": {
      "text/plain": [
       "False"
      ]
     },
     "execution_count": 469,
     "metadata": {},
     "output_type": "execute_result"
    }
   ],
   "source": [
    "dataset_defined['lose_streak_dif'].equals(lose_streak_dif)"
   ]
  },
  {
   "cell_type": "code",
   "execution_count": 470,
   "metadata": {},
   "outputs": [],
   "source": [
    "# it seems there is an inconsistency of the difference value\n",
    "# i.e. some calculation it's blue minus red, and some calculation\n",
    "# do the other way.\n",
    "\n",
    "# we are going to update the all the dif field"
   ]
  },
  {
   "cell_type": "code",
   "execution_count": 471,
   "metadata": {},
   "outputs": [],
   "source": [
    "dataset_defined['lose_streak_dif'] = lose_streak_dif"
   ]
  },
  {
   "cell_type": "code",
   "execution_count": 472,
   "metadata": {},
   "outputs": [
    {
     "data": {
      "text/plain": [
       "0       3\n",
       "1       0\n",
       "2       0\n",
       "3       0\n",
       "4       0\n",
       "       ..\n",
       "4891    1\n",
       "4892    0\n",
       "4893    0\n",
       "4894    1\n",
       "4895    0\n",
       "Name: lose_streak_dif, Length: 4896, dtype: int64"
      ]
     },
     "execution_count": 472,
     "metadata": {},
     "output_type": "execute_result"
    }
   ],
   "source": [
    "dataset_defined['lose_streak_dif']"
   ]
  },
  {
   "cell_type": "code",
   "execution_count": 473,
   "metadata": {},
   "outputs": [
    {
     "data": {
      "text/plain": [
       "'win_streak_dif'"
      ]
     },
     "execution_count": 473,
     "metadata": {},
     "output_type": "execute_result"
    }
   ],
   "source": [
    "dif[1]"
   ]
  },
  {
   "cell_type": "code",
   "execution_count": 474,
   "metadata": {},
   "outputs": [
    {
     "data": {
      "text/plain": [
       "['B_current_win_streak',\n",
       " 'B_longest_win_streak',\n",
       " 'R_current_win_streak',\n",
       " 'R_longest_win_streak',\n",
       " 'win_streak_dif',\n",
       " 'longest_win_streak_dif']"
      ]
     },
     "execution_count": 474,
     "metadata": {},
     "output_type": "execute_result"
    }
   ],
   "source": [
    "check_fields(dataset_defined, \"win_streak\")"
   ]
  },
  {
   "cell_type": "code",
   "execution_count": 475,
   "metadata": {},
   "outputs": [
    {
     "data": {
      "text/plain": [
       "0      -1\n",
       "1       0\n",
       "2       0\n",
       "3       0\n",
       "4       2\n",
       "       ..\n",
       "4891    0\n",
       "4892    3\n",
       "4893    0\n",
       "4894    0\n",
       "4895    0\n",
       "Length: 4896, dtype: int64"
      ]
     },
     "execution_count": 475,
     "metadata": {},
     "output_type": "execute_result"
    }
   ],
   "source": [
    "win_streak_dif = generate_dif(\n",
    "    red = dataset_defined['R_current_win_streak'],\n",
    "    blue = dataset_defined['B_current_win_streak']\n",
    ")\n",
    "win_streak_dif"
   ]
  },
  {
   "cell_type": "code",
   "execution_count": 476,
   "metadata": {},
   "outputs": [],
   "source": [
    "dataset_defined['win_streak_dif'] = win_streak_dif"
   ]
  },
  {
   "cell_type": "code",
   "execution_count": 477,
   "metadata": {},
   "outputs": [],
   "source": [
    "# automate some of our work\n",
    "def update_dif(red_field:str, blue_field:str, dif_field:str):\n",
    "    diff = generate_dif(\n",
    "        red = dataset_defined[red_field],\n",
    "        blue = dataset_defined[blue_field]\n",
    "    )\n",
    "    dataset_defined[dif_field] = diff"
   ]
  },
  {
   "cell_type": "code",
   "execution_count": 478,
   "metadata": {},
   "outputs": [
    {
     "data": {
      "text/plain": [
       "'longest_win_streak_dif'"
      ]
     },
     "execution_count": 478,
     "metadata": {},
     "output_type": "execute_result"
    }
   ],
   "source": [
    "dif[2]"
   ]
  },
  {
   "cell_type": "code",
   "execution_count": 479,
   "metadata": {},
   "outputs": [
    {
     "data": {
      "text/plain": [
       "['B_longest_win_streak', 'R_longest_win_streak', 'longest_win_streak_dif']"
      ]
     },
     "execution_count": 479,
     "metadata": {},
     "output_type": "execute_result"
    }
   ],
   "source": [
    "check_fields(dataset_defined, \"longest_win\")"
   ]
  },
  {
   "cell_type": "code",
   "execution_count": 480,
   "metadata": {},
   "outputs": [],
   "source": [
    "update_dif('R_longest_win_streak','B_longest_win_streak','longest_win_streak_dif')"
   ]
  },
  {
   "cell_type": "code",
   "execution_count": 481,
   "metadata": {},
   "outputs": [
    {
     "data": {
      "text/plain": [
       "'win_dif'"
      ]
     },
     "execution_count": 481,
     "metadata": {},
     "output_type": "execute_result"
    }
   ],
   "source": [
    "dif[3]"
   ]
  },
  {
   "cell_type": "code",
   "execution_count": 482,
   "metadata": {},
   "outputs": [
    {
     "data": {
      "text/plain": [
       "['Winner',\n",
       " 'B_current_win_streak',\n",
       " 'B_longest_win_streak',\n",
       " 'B_win_by_Decision_Majority',\n",
       " 'B_win_by_Decision_Split',\n",
       " 'B_win_by_Decision_Unanimous',\n",
       " 'B_win_by_KO/TKO',\n",
       " 'B_win_by_Submission',\n",
       " 'B_win_by_TKO_Doctor_Stoppage',\n",
       " 'B_wins',\n",
       " 'R_current_win_streak',\n",
       " 'R_longest_win_streak',\n",
       " 'R_win_by_Decision_Majority',\n",
       " 'R_win_by_Decision_Split',\n",
       " 'R_win_by_Decision_Unanimous',\n",
       " 'R_win_by_KO/TKO',\n",
       " 'R_win_by_Submission',\n",
       " 'R_win_by_TKO_Doctor_Stoppage',\n",
       " 'R_wins',\n",
       " 'win_streak_dif',\n",
       " 'longest_win_streak_dif',\n",
       " 'win_dif']"
      ]
     },
     "execution_count": 482,
     "metadata": {},
     "output_type": "execute_result"
    }
   ],
   "source": [
    "check_fields(dataset_defined, \"win\")"
   ]
  },
  {
   "cell_type": "code",
   "execution_count": 483,
   "metadata": {},
   "outputs": [],
   "source": [
    "update_dif('R_wins','B_wins','win_dif')"
   ]
  },
  {
   "cell_type": "code",
   "execution_count": 484,
   "metadata": {},
   "outputs": [
    {
     "data": {
      "text/plain": [
       "'loss_dif'"
      ]
     },
     "execution_count": 484,
     "metadata": {},
     "output_type": "execute_result"
    }
   ],
   "source": [
    "dif[4]"
   ]
  },
  {
   "cell_type": "code",
   "execution_count": 485,
   "metadata": {},
   "outputs": [
    {
     "data": {
      "text/plain": [
       "['B_losses', 'R_losses', 'loss_dif']"
      ]
     },
     "execution_count": 485,
     "metadata": {},
     "output_type": "execute_result"
    }
   ],
   "source": [
    "check_fields(dataset_defined, \"loss\")"
   ]
  },
  {
   "cell_type": "code",
   "execution_count": 486,
   "metadata": {},
   "outputs": [],
   "source": [
    "update_dif('R_losses','B_losses','loss_dif')"
   ]
  },
  {
   "cell_type": "code",
   "execution_count": 487,
   "metadata": {},
   "outputs": [
    {
     "data": {
      "text/plain": [
       "'total_round_dif'"
      ]
     },
     "execution_count": 487,
     "metadata": {},
     "output_type": "execute_result"
    }
   ],
   "source": [
    "dif[5]"
   ]
  },
  {
   "cell_type": "code",
   "execution_count": 488,
   "metadata": {},
   "outputs": [
    {
     "data": {
      "text/plain": [
       "['B_total_rounds_fought', 'R_total_rounds_fought', 'total_round_dif']"
      ]
     },
     "execution_count": 488,
     "metadata": {},
     "output_type": "execute_result"
    }
   ],
   "source": [
    "check_fields(dataset_defined, \"total_round\")"
   ]
  },
  {
   "cell_type": "code",
   "execution_count": 489,
   "metadata": {},
   "outputs": [],
   "source": [
    "update_dif('R_total_rounds_fought','B_total_rounds_fought','total_round_dif')"
   ]
  },
  {
   "cell_type": "code",
   "execution_count": 490,
   "metadata": {},
   "outputs": [
    {
     "data": {
      "text/plain": [
       "'total_title_bout_dif'"
      ]
     },
     "execution_count": 490,
     "metadata": {},
     "output_type": "execute_result"
    }
   ],
   "source": [
    "dif[6]"
   ]
  },
  {
   "cell_type": "code",
   "execution_count": 491,
   "metadata": {},
   "outputs": [
    {
     "data": {
      "text/plain": [
       "['title_bout',\n",
       " 'B_total_title_bouts',\n",
       " 'R_total_title_bouts',\n",
       " 'total_title_bout_dif']"
      ]
     },
     "execution_count": 491,
     "metadata": {},
     "output_type": "execute_result"
    }
   ],
   "source": [
    "check_fields(dataset_defined, \"title_bout\")"
   ]
  },
  {
   "cell_type": "code",
   "execution_count": 492,
   "metadata": {},
   "outputs": [],
   "source": [
    "update_dif('R_total_title_bouts','B_total_title_bouts','total_title_bout_dif')"
   ]
  },
  {
   "cell_type": "code",
   "execution_count": 493,
   "metadata": {},
   "outputs": [
    {
     "data": {
      "text/plain": [
       "'ko_dif'"
      ]
     },
     "execution_count": 493,
     "metadata": {},
     "output_type": "execute_result"
    }
   ],
   "source": [
    "dif[7]"
   ]
  },
  {
   "cell_type": "code",
   "execution_count": 494,
   "metadata": {},
   "outputs": [
    {
     "data": {
      "text/plain": [
       "['B_win_by_KO/TKO',\n",
       " 'B_win_by_TKO_Doctor_Stoppage',\n",
       " 'R_win_by_KO/TKO',\n",
       " 'R_win_by_TKO_Doctor_Stoppage',\n",
       " 'ko_dif']"
      ]
     },
     "execution_count": 494,
     "metadata": {},
     "output_type": "execute_result"
    }
   ],
   "source": [
    "check_fields(dataset_defined, \"ko\")"
   ]
  },
  {
   "cell_type": "code",
   "execution_count": 495,
   "metadata": {},
   "outputs": [],
   "source": [
    "update_dif('R_win_by_KO/TKO','B_win_by_KO/TKO','ko_dif')"
   ]
  },
  {
   "cell_type": "code",
   "execution_count": 496,
   "metadata": {},
   "outputs": [
    {
     "data": {
      "text/plain": [
       "'sub_dif'"
      ]
     },
     "execution_count": 496,
     "metadata": {},
     "output_type": "execute_result"
    }
   ],
   "source": [
    "dif[8]"
   ]
  },
  {
   "cell_type": "code",
   "execution_count": 497,
   "metadata": {},
   "outputs": [
    {
     "data": {
      "text/plain": [
       "['B_avg_SUB_ATT',\n",
       " 'B_win_by_Submission',\n",
       " 'R_avg_SUB_ATT',\n",
       " 'R_win_by_Submission',\n",
       " 'sub_dif',\n",
       " 'avg_sub_att_dif']"
      ]
     },
     "execution_count": 497,
     "metadata": {},
     "output_type": "execute_result"
    }
   ],
   "source": [
    "check_fields(dataset_defined, \"sub\")"
   ]
  },
  {
   "cell_type": "code",
   "execution_count": 498,
   "metadata": {},
   "outputs": [],
   "source": [
    "update_dif('R_win_by_Submission','B_win_by_Submission','sub_dif')"
   ]
  },
  {
   "cell_type": "code",
   "execution_count": 499,
   "metadata": {},
   "outputs": [
    {
     "data": {
      "text/plain": [
       "'height_dif'"
      ]
     },
     "execution_count": 499,
     "metadata": {},
     "output_type": "execute_result"
    }
   ],
   "source": [
    "dif[9]"
   ]
  },
  {
   "cell_type": "code",
   "execution_count": 500,
   "metadata": {},
   "outputs": [
    {
     "data": {
      "text/plain": [
       "['B_Height_cms', 'R_Height_cms', 'height_dif']"
      ]
     },
     "execution_count": 500,
     "metadata": {},
     "output_type": "execute_result"
    }
   ],
   "source": [
    "check_fields(dataset_defined, \"height\")"
   ]
  },
  {
   "cell_type": "code",
   "execution_count": 501,
   "metadata": {},
   "outputs": [],
   "source": [
    "update_dif('R_Height_cms','B_Height_cms','height_dif')"
   ]
  },
  {
   "cell_type": "code",
   "execution_count": 502,
   "metadata": {},
   "outputs": [
    {
     "data": {
      "text/plain": [
       "'reach_dif'"
      ]
     },
     "execution_count": 502,
     "metadata": {},
     "output_type": "execute_result"
    }
   ],
   "source": [
    "dif[10]"
   ]
  },
  {
   "cell_type": "code",
   "execution_count": 503,
   "metadata": {},
   "outputs": [
    {
     "data": {
      "text/plain": [
       "['B_Reach_cms', 'R_Reach_cms', 'reach_dif']"
      ]
     },
     "execution_count": 503,
     "metadata": {},
     "output_type": "execute_result"
    }
   ],
   "source": [
    "check_fields(dataset_defined, \"reach\")"
   ]
  },
  {
   "cell_type": "code",
   "execution_count": 504,
   "metadata": {},
   "outputs": [],
   "source": [
    "update_dif('R_Reach_cms','B_Reach_cms','reach_dif')"
   ]
  },
  {
   "cell_type": "code",
   "execution_count": 505,
   "metadata": {},
   "outputs": [
    {
     "data": {
      "text/plain": [
       "'age_dif'"
      ]
     },
     "execution_count": 505,
     "metadata": {},
     "output_type": "execute_result"
    }
   ],
   "source": [
    "dif[11]"
   ]
  },
  {
   "cell_type": "code",
   "execution_count": 506,
   "metadata": {},
   "outputs": [
    {
     "data": {
      "text/plain": [
       "['B_win_by_TKO_Doctor_Stoppage',\n",
       " 'R_win_by_TKO_Doctor_Stoppage',\n",
       " 'R_age',\n",
       " 'B_age',\n",
       " 'age_dif']"
      ]
     },
     "execution_count": 506,
     "metadata": {},
     "output_type": "execute_result"
    }
   ],
   "source": [
    "check_fields(dataset_defined, \"age\")"
   ]
  },
  {
   "cell_type": "code",
   "execution_count": 507,
   "metadata": {},
   "outputs": [],
   "source": [
    "update_dif('R_age','B_age','age_dif')"
   ]
  },
  {
   "cell_type": "code",
   "execution_count": 508,
   "metadata": {},
   "outputs": [
    {
     "data": {
      "text/plain": [
       "'sig_str_dif'"
      ]
     },
     "execution_count": 508,
     "metadata": {},
     "output_type": "execute_result"
    }
   ],
   "source": [
    "dif[12]"
   ]
  },
  {
   "cell_type": "code",
   "execution_count": 509,
   "metadata": {},
   "outputs": [
    {
     "data": {
      "text/plain": [
       "['B_avg_SIG_STR_landed',\n",
       " 'B_avg_SIG_STR_pct',\n",
       " 'R_avg_SIG_STR_landed',\n",
       " 'R_avg_SIG_STR_pct',\n",
       " 'sig_str_dif']"
      ]
     },
     "execution_count": 509,
     "metadata": {},
     "output_type": "execute_result"
    }
   ],
   "source": [
    "check_fields(dataset_defined, \"sig_str\")"
   ]
  },
  {
   "cell_type": "code",
   "execution_count": 510,
   "metadata": {},
   "outputs": [],
   "source": [
    "update_dif('R_avg_SIG_STR_landed','B_avg_SIG_STR_landed','sig_str_dif')"
   ]
  },
  {
   "cell_type": "code",
   "execution_count": 511,
   "metadata": {},
   "outputs": [
    {
     "data": {
      "text/plain": [
       "'avg_sub_att_dif'"
      ]
     },
     "execution_count": 511,
     "metadata": {},
     "output_type": "execute_result"
    }
   ],
   "source": [
    "dif[13]"
   ]
  },
  {
   "cell_type": "code",
   "execution_count": 512,
   "metadata": {},
   "outputs": [
    {
     "data": {
      "text/plain": [
       "['B_avg_SUB_ATT', 'R_avg_SUB_ATT', 'avg_sub_att_dif']"
      ]
     },
     "execution_count": 512,
     "metadata": {},
     "output_type": "execute_result"
    }
   ],
   "source": [
    "check_fields(dataset_defined, \"sub_att\")"
   ]
  },
  {
   "cell_type": "code",
   "execution_count": 513,
   "metadata": {},
   "outputs": [],
   "source": [
    "update_dif('R_avg_SUB_ATT','B_avg_SUB_ATT','avg_sub_att_dif')"
   ]
  },
  {
   "cell_type": "code",
   "execution_count": 514,
   "metadata": {},
   "outputs": [
    {
     "data": {
      "text/plain": [
       "'avg_td_dif'"
      ]
     },
     "execution_count": 514,
     "metadata": {},
     "output_type": "execute_result"
    }
   ],
   "source": [
    "dif[14]"
   ]
  },
  {
   "cell_type": "code",
   "execution_count": 515,
   "metadata": {},
   "outputs": [
    {
     "data": {
      "text/plain": [
       "['B_avg_TD_landed',\n",
       " 'B_avg_TD_pct',\n",
       " 'R_avg_TD_landed',\n",
       " 'R_avg_TD_pct',\n",
       " 'avg_td_dif']"
      ]
     },
     "execution_count": 515,
     "metadata": {},
     "output_type": "execute_result"
    }
   ],
   "source": [
    "check_fields(dataset_defined, \"td\")"
   ]
  },
  {
   "cell_type": "code",
   "execution_count": 516,
   "metadata": {},
   "outputs": [],
   "source": [
    "update_dif('R_avg_TD_landed','B_avg_TD_landed','avg_td_dif')"
   ]
  },
  {
   "cell_type": "code",
   "execution_count": 517,
   "metadata": {},
   "outputs": [
    {
     "data": {
      "text/html": [
       "<div>\n",
       "<style scoped>\n",
       "    .dataframe tbody tr th:only-of-type {\n",
       "        vertical-align: middle;\n",
       "    }\n",
       "\n",
       "    .dataframe tbody tr th {\n",
       "        vertical-align: top;\n",
       "    }\n",
       "\n",
       "    .dataframe thead th {\n",
       "        text-align: right;\n",
       "    }\n",
       "</style>\n",
       "<table border=\"1\" class=\"dataframe\">\n",
       "  <thead>\n",
       "    <tr style=\"text-align: right;\">\n",
       "      <th></th>\n",
       "      <th>lose_streak_dif</th>\n",
       "      <th>win_streak_dif</th>\n",
       "      <th>longest_win_streak_dif</th>\n",
       "      <th>win_dif</th>\n",
       "      <th>loss_dif</th>\n",
       "      <th>total_round_dif</th>\n",
       "      <th>total_title_bout_dif</th>\n",
       "      <th>ko_dif</th>\n",
       "      <th>sub_dif</th>\n",
       "      <th>height_dif</th>\n",
       "      <th>reach_dif</th>\n",
       "      <th>age_dif</th>\n",
       "      <th>sig_str_dif</th>\n",
       "      <th>avg_sub_att_dif</th>\n",
       "      <th>avg_td_dif</th>\n",
       "    </tr>\n",
       "  </thead>\n",
       "  <tbody>\n",
       "    <tr>\n",
       "      <th>0</th>\n",
       "      <td>3</td>\n",
       "      <td>-1</td>\n",
       "      <td>0</td>\n",
       "      <td>8</td>\n",
       "      <td>6</td>\n",
       "      <td>32</td>\n",
       "      <td>1</td>\n",
       "      <td>7</td>\n",
       "      <td>0</td>\n",
       "      <td>-10.16</td>\n",
       "      <td>-15.24</td>\n",
       "      <td>8</td>\n",
       "      <td>0.53</td>\n",
       "      <td>-0.600000</td>\n",
       "      <td>0.370000</td>\n",
       "    </tr>\n",
       "    <tr>\n",
       "      <th>1</th>\n",
       "      <td>0</td>\n",
       "      <td>0</td>\n",
       "      <td>2</td>\n",
       "      <td>5</td>\n",
       "      <td>3</td>\n",
       "      <td>20</td>\n",
       "      <td>0</td>\n",
       "      <td>0</td>\n",
       "      <td>1</td>\n",
       "      <td>-2.54</td>\n",
       "      <td>0.00</td>\n",
       "      <td>1</td>\n",
       "      <td>-2.19</td>\n",
       "      <td>-0.300000</td>\n",
       "      <td>1.480000</td>\n",
       "    </tr>\n",
       "    <tr>\n",
       "      <th>2</th>\n",
       "      <td>0</td>\n",
       "      <td>0</td>\n",
       "      <td>-1</td>\n",
       "      <td>-3</td>\n",
       "      <td>-1</td>\n",
       "      <td>-25</td>\n",
       "      <td>0</td>\n",
       "      <td>0</td>\n",
       "      <td>5</td>\n",
       "      <td>5.08</td>\n",
       "      <td>0.00</td>\n",
       "      <td>2</td>\n",
       "      <td>0.85</td>\n",
       "      <td>1.600000</td>\n",
       "      <td>3.330000</td>\n",
       "    </tr>\n",
       "    <tr>\n",
       "      <th>3</th>\n",
       "      <td>0</td>\n",
       "      <td>0</td>\n",
       "      <td>2</td>\n",
       "      <td>4</td>\n",
       "      <td>2</td>\n",
       "      <td>12</td>\n",
       "      <td>0</td>\n",
       "      <td>2</td>\n",
       "      <td>0</td>\n",
       "      <td>-2.54</td>\n",
       "      <td>5.08</td>\n",
       "      <td>-3</td>\n",
       "      <td>-0.25</td>\n",
       "      <td>0.000000</td>\n",
       "      <td>1.570000</td>\n",
       "    </tr>\n",
       "    <tr>\n",
       "      <th>4</th>\n",
       "      <td>0</td>\n",
       "      <td>2</td>\n",
       "      <td>2</td>\n",
       "      <td>-1</td>\n",
       "      <td>-3</td>\n",
       "      <td>-11</td>\n",
       "      <td>0</td>\n",
       "      <td>-1</td>\n",
       "      <td>2</td>\n",
       "      <td>0.00</td>\n",
       "      <td>5.08</td>\n",
       "      <td>-5</td>\n",
       "      <td>-2.58</td>\n",
       "      <td>0.600000</td>\n",
       "      <td>0.310000</td>\n",
       "    </tr>\n",
       "    <tr>\n",
       "      <th>...</th>\n",
       "      <td>...</td>\n",
       "      <td>...</td>\n",
       "      <td>...</td>\n",
       "      <td>...</td>\n",
       "      <td>...</td>\n",
       "      <td>...</td>\n",
       "      <td>...</td>\n",
       "      <td>...</td>\n",
       "      <td>...</td>\n",
       "      <td>...</td>\n",
       "      <td>...</td>\n",
       "      <td>...</td>\n",
       "      <td>...</td>\n",
       "      <td>...</td>\n",
       "      <td>...</td>\n",
       "    </tr>\n",
       "    <tr>\n",
       "      <th>4891</th>\n",
       "      <td>1</td>\n",
       "      <td>0</td>\n",
       "      <td>2</td>\n",
       "      <td>2</td>\n",
       "      <td>1</td>\n",
       "      <td>5</td>\n",
       "      <td>0</td>\n",
       "      <td>1</td>\n",
       "      <td>0</td>\n",
       "      <td>0.00</td>\n",
       "      <td>-2.54</td>\n",
       "      <td>6</td>\n",
       "      <td>NaN</td>\n",
       "      <td>NaN</td>\n",
       "      <td>NaN</td>\n",
       "    </tr>\n",
       "    <tr>\n",
       "      <th>4892</th>\n",
       "      <td>0</td>\n",
       "      <td>3</td>\n",
       "      <td>3</td>\n",
       "      <td>3</td>\n",
       "      <td>0</td>\n",
       "      <td>9</td>\n",
       "      <td>0</td>\n",
       "      <td>1</td>\n",
       "      <td>0</td>\n",
       "      <td>-7.62</td>\n",
       "      <td>-7.62</td>\n",
       "      <td>-2</td>\n",
       "      <td>NaN</td>\n",
       "      <td>NaN</td>\n",
       "      <td>NaN</td>\n",
       "    </tr>\n",
       "    <tr>\n",
       "      <th>4893</th>\n",
       "      <td>0</td>\n",
       "      <td>0</td>\n",
       "      <td>0</td>\n",
       "      <td>0</td>\n",
       "      <td>0</td>\n",
       "      <td>0</td>\n",
       "      <td>1</td>\n",
       "      <td>0</td>\n",
       "      <td>0</td>\n",
       "      <td>2.54</td>\n",
       "      <td>2.12</td>\n",
       "      <td>0</td>\n",
       "      <td>4.00</td>\n",
       "      <td>-1.000000</td>\n",
       "      <td>-1.000000</td>\n",
       "    </tr>\n",
       "    <tr>\n",
       "      <th>4894</th>\n",
       "      <td>1</td>\n",
       "      <td>0</td>\n",
       "      <td>1</td>\n",
       "      <td>1</td>\n",
       "      <td>1</td>\n",
       "      <td>6</td>\n",
       "      <td>0</td>\n",
       "      <td>0</td>\n",
       "      <td>0</td>\n",
       "      <td>-10.16</td>\n",
       "      <td>-7.62</td>\n",
       "      <td>-5</td>\n",
       "      <td>NaN</td>\n",
       "      <td>NaN</td>\n",
       "      <td>NaN</td>\n",
       "    </tr>\n",
       "    <tr>\n",
       "      <th>4895</th>\n",
       "      <td>0</td>\n",
       "      <td>0</td>\n",
       "      <td>0</td>\n",
       "      <td>1</td>\n",
       "      <td>2</td>\n",
       "      <td>1</td>\n",
       "      <td>0</td>\n",
       "      <td>0</td>\n",
       "      <td>2</td>\n",
       "      <td>10.16</td>\n",
       "      <td>10.16</td>\n",
       "      <td>-2</td>\n",
       "      <td>-16.00</td>\n",
       "      <td>0.666667</td>\n",
       "      <td>-0.833333</td>\n",
       "    </tr>\n",
       "  </tbody>\n",
       "</table>\n",
       "<p>4896 rows × 15 columns</p>\n",
       "</div>"
      ],
      "text/plain": [
       "      lose_streak_dif  win_streak_dif  longest_win_streak_dif  win_dif  \\\n",
       "0                   3              -1                       0        8   \n",
       "1                   0               0                       2        5   \n",
       "2                   0               0                      -1       -3   \n",
       "3                   0               0                       2        4   \n",
       "4                   0               2                       2       -1   \n",
       "...               ...             ...                     ...      ...   \n",
       "4891                1               0                       2        2   \n",
       "4892                0               3                       3        3   \n",
       "4893                0               0                       0        0   \n",
       "4894                1               0                       1        1   \n",
       "4895                0               0                       0        1   \n",
       "\n",
       "      loss_dif  total_round_dif  total_title_bout_dif  ko_dif  sub_dif  \\\n",
       "0            6               32                     1       7        0   \n",
       "1            3               20                     0       0        1   \n",
       "2           -1              -25                     0       0        5   \n",
       "3            2               12                     0       2        0   \n",
       "4           -3              -11                     0      -1        2   \n",
       "...        ...              ...                   ...     ...      ...   \n",
       "4891         1                5                     0       1        0   \n",
       "4892         0                9                     0       1        0   \n",
       "4893         0                0                     1       0        0   \n",
       "4894         1                6                     0       0        0   \n",
       "4895         2                1                     0       0        2   \n",
       "\n",
       "      height_dif  reach_dif  age_dif  sig_str_dif  avg_sub_att_dif  avg_td_dif  \n",
       "0         -10.16     -15.24        8         0.53        -0.600000    0.370000  \n",
       "1          -2.54       0.00        1        -2.19        -0.300000    1.480000  \n",
       "2           5.08       0.00        2         0.85         1.600000    3.330000  \n",
       "3          -2.54       5.08       -3        -0.25         0.000000    1.570000  \n",
       "4           0.00       5.08       -5        -2.58         0.600000    0.310000  \n",
       "...          ...        ...      ...          ...              ...         ...  \n",
       "4891        0.00      -2.54        6          NaN              NaN         NaN  \n",
       "4892       -7.62      -7.62       -2          NaN              NaN         NaN  \n",
       "4893        2.54       2.12        0         4.00        -1.000000   -1.000000  \n",
       "4894      -10.16      -7.62       -5          NaN              NaN         NaN  \n",
       "4895       10.16      10.16       -2       -16.00         0.666667   -0.833333  \n",
       "\n",
       "[4896 rows x 15 columns]"
      ]
     },
     "execution_count": 517,
     "metadata": {},
     "output_type": "execute_result"
    }
   ],
   "source": [
    "dataset_defined[dif]"
   ]
  },
  {
   "cell_type": "code",
   "execution_count": 518,
   "metadata": {},
   "outputs": [
    {
     "data": {
      "text/plain": [
       "lose_streak_dif              0\n",
       "win_streak_dif               0\n",
       "longest_win_streak_dif       0\n",
       "win_dif                      0\n",
       "loss_dif                     0\n",
       "total_round_dif              0\n",
       "total_title_bout_dif         0\n",
       "ko_dif                       0\n",
       "sub_dif                      0\n",
       "height_dif                   0\n",
       "reach_dif                    0\n",
       "age_dif                      0\n",
       "sig_str_dif               1041\n",
       "avg_sub_att_dif            943\n",
       "avg_td_dif                 944\n",
       "dtype: int64"
      ]
     },
     "execution_count": 518,
     "metadata": {},
     "output_type": "execute_result"
    }
   ],
   "source": [
    "dataset_defined[dif].isnull().sum()"
   ]
  },
  {
   "cell_type": "code",
   "execution_count": 519,
   "metadata": {},
   "outputs": [
    {
     "data": {
      "text/plain": [
       "['lose_streak_dif',\n",
       " 'win_streak_dif',\n",
       " 'longest_win_streak_dif',\n",
       " 'win_dif',\n",
       " 'loss_dif',\n",
       " 'total_round_dif',\n",
       " 'total_title_bout_dif',\n",
       " 'ko_dif',\n",
       " 'sub_dif',\n",
       " 'height_dif',\n",
       " 'reach_dif',\n",
       " 'age_dif']"
      ]
     },
     "execution_count": 519,
     "metadata": {},
     "output_type": "execute_result"
    }
   ],
   "source": [
    "# again, for the sake of interpretability, we would prefer to select fewer features\n",
    "# instead of dropping some of our records. We would take 12 fields that have no nan values\n",
    "# and make it our predictors.\n",
    "\n",
    "preds = dif[:-3]\n",
    "preds"
   ]
  },
  {
   "cell_type": "code",
   "execution_count": 520,
   "metadata": {},
   "outputs": [
    {
     "data": {
      "text/plain": [
       "lose_streak_dif           0\n",
       "win_streak_dif            0\n",
       "longest_win_streak_dif    0\n",
       "win_dif                   0\n",
       "loss_dif                  0\n",
       "total_round_dif           0\n",
       "total_title_bout_dif      0\n",
       "ko_dif                    0\n",
       "sub_dif                   0\n",
       "height_dif                0\n",
       "reach_dif                 0\n",
       "age_dif                   0\n",
       "dtype: int64"
      ]
     },
     "execution_count": 520,
     "metadata": {},
     "output_type": "execute_result"
    }
   ],
   "source": [
    "dataset_defined[preds].isnull().sum()"
   ]
  },
  {
   "cell_type": "code",
   "execution_count": 521,
   "metadata": {},
   "outputs": [
    {
     "name": "stdout",
     "output_type": "stream",
     "text": [
      "- lose_streak_dif\n",
      "- win_streak_dif\n",
      "- longest_win_streak_dif\n",
      "- win_dif\n",
      "- loss_dif\n",
      "- total_round_dif\n",
      "- total_title_bout_dif\n",
      "- ko_dif\n",
      "- sub_dif\n",
      "- height_dif\n",
      "- reach_dif\n",
      "- age_dif\n"
     ]
    }
   ],
   "source": [
    "# now let's extract some information for our configuration file\n",
    "\n",
    "for pred in preds:\n",
    "    print('-', pred)"
   ]
  },
  {
   "cell_type": "code",
   "execution_count": 522,
   "metadata": {},
   "outputs": [
    {
     "data": {
      "text/plain": [
       "lose_streak_dif             int64\n",
       "win_streak_dif              int64\n",
       "longest_win_streak_dif      int64\n",
       "win_dif                     int64\n",
       "loss_dif                    int64\n",
       "total_round_dif             int64\n",
       "total_title_bout_dif        int64\n",
       "ko_dif                      int64\n",
       "sub_dif                     int64\n",
       "height_dif                float64\n",
       "reach_dif                 float64\n",
       "age_dif                     int64\n",
       "dtype: object"
      ]
     },
     "execution_count": 522,
     "metadata": {},
     "output_type": "execute_result"
    }
   ],
   "source": [
    "dataset_defined[preds].dtypes"
   ]
  },
  {
   "cell_type": "code",
   "execution_count": 523,
   "metadata": {},
   "outputs": [
    {
     "name": "stdout",
     "output_type": "stream",
     "text": [
      "- lose_streak_dif\n",
      "- win_streak_dif\n",
      "- longest_win_streak_dif\n",
      "- win_dif\n",
      "- loss_dif\n",
      "- total_round_dif\n",
      "- total_title_bout_dif\n",
      "- ko_dif\n",
      "- sub_dif\n",
      "- age_dif\n"
     ]
    }
   ],
   "source": [
    "int_columns = dataset_defined[preds].columns[dataset_defined[preds].dtypes == 'int64']\n",
    "for column in int_columns:\n",
    "    print('-', column)"
   ]
  },
  {
   "cell_type": "code",
   "execution_count": 524,
   "metadata": {},
   "outputs": [
    {
     "name": "stdout",
     "output_type": "stream",
     "text": [
      "- height_dif\n",
      "- reach_dif\n"
     ]
    }
   ],
   "source": [
    "float_columns = dataset_defined[preds].columns[dataset_defined[preds].dtypes == 'float64']\n",
    "for column in float_columns:\n",
    "    print('-', column)"
   ]
  },
  {
   "cell_type": "code",
   "execution_count": 525,
   "metadata": {},
   "outputs": [
    {
     "data": {
      "text/html": [
       "<div>\n",
       "<style scoped>\n",
       "    .dataframe tbody tr th:only-of-type {\n",
       "        vertical-align: middle;\n",
       "    }\n",
       "\n",
       "    .dataframe tbody tr th {\n",
       "        vertical-align: top;\n",
       "    }\n",
       "\n",
       "    .dataframe thead th {\n",
       "        text-align: right;\n",
       "    }\n",
       "</style>\n",
       "<table border=\"1\" class=\"dataframe\">\n",
       "  <thead>\n",
       "    <tr style=\"text-align: right;\">\n",
       "      <th></th>\n",
       "      <th>lose_streak_dif</th>\n",
       "      <th>win_streak_dif</th>\n",
       "      <th>longest_win_streak_dif</th>\n",
       "      <th>win_dif</th>\n",
       "      <th>loss_dif</th>\n",
       "      <th>total_round_dif</th>\n",
       "      <th>total_title_bout_dif</th>\n",
       "      <th>ko_dif</th>\n",
       "      <th>sub_dif</th>\n",
       "      <th>height_dif</th>\n",
       "      <th>reach_dif</th>\n",
       "      <th>age_dif</th>\n",
       "      <th>Winner</th>\n",
       "    </tr>\n",
       "  </thead>\n",
       "  <tbody>\n",
       "    <tr>\n",
       "      <th>count</th>\n",
       "      <td>4896.000000</td>\n",
       "      <td>4896.000000</td>\n",
       "      <td>4896.000000</td>\n",
       "      <td>4896.000000</td>\n",
       "      <td>4896.000000</td>\n",
       "      <td>4896.000000</td>\n",
       "      <td>4896.000000</td>\n",
       "      <td>4896.000000</td>\n",
       "      <td>4896.000000</td>\n",
       "      <td>4896.000000</td>\n",
       "      <td>4896.000000</td>\n",
       "      <td>4896.000000</td>\n",
       "      <td>4896.000000</td>\n",
       "    </tr>\n",
       "    <tr>\n",
       "      <th>mean</th>\n",
       "      <td>0.135212</td>\n",
       "      <td>0.175654</td>\n",
       "      <td>0.765931</td>\n",
       "      <td>1.412786</td>\n",
       "      <td>0.667075</td>\n",
       "      <td>5.208538</td>\n",
       "      <td>0.319444</td>\n",
       "      <td>0.488562</td>\n",
       "      <td>0.277574</td>\n",
       "      <td>-0.053721</td>\n",
       "      <td>0.183877</td>\n",
       "      <td>0.538603</td>\n",
       "      <td>0.583946</td>\n",
       "    </tr>\n",
       "    <tr>\n",
       "      <th>std</th>\n",
       "      <td>0.990505</td>\n",
       "      <td>1.729450</td>\n",
       "      <td>2.029394</td>\n",
       "      <td>4.030496</td>\n",
       "      <td>2.819143</td>\n",
       "      <td>16.989572</td>\n",
       "      <td>1.649489</td>\n",
       "      <td>2.031889</td>\n",
       "      <td>1.759247</td>\n",
       "      <td>6.428207</td>\n",
       "      <td>8.753398</td>\n",
       "      <td>5.156641</td>\n",
       "      <td>0.492953</td>\n",
       "    </tr>\n",
       "    <tr>\n",
       "      <th>min</th>\n",
       "      <td>-5.000000</td>\n",
       "      <td>-9.000000</td>\n",
       "      <td>-14.000000</td>\n",
       "      <td>-23.000000</td>\n",
       "      <td>-14.000000</td>\n",
       "      <td>-80.000000</td>\n",
       "      <td>-14.000000</td>\n",
       "      <td>-14.000000</td>\n",
       "      <td>-10.000000</td>\n",
       "      <td>-30.480000</td>\n",
       "      <td>-30.480000</td>\n",
       "      <td>-16.000000</td>\n",
       "      <td>0.000000</td>\n",
       "    </tr>\n",
       "    <tr>\n",
       "      <th>25%</th>\n",
       "      <td>0.000000</td>\n",
       "      <td>0.000000</td>\n",
       "      <td>0.000000</td>\n",
       "      <td>0.000000</td>\n",
       "      <td>-1.000000</td>\n",
       "      <td>-2.000000</td>\n",
       "      <td>0.000000</td>\n",
       "      <td>0.000000</td>\n",
       "      <td>0.000000</td>\n",
       "      <td>-5.080000</td>\n",
       "      <td>-5.080000</td>\n",
       "      <td>-3.000000</td>\n",
       "      <td>0.000000</td>\n",
       "    </tr>\n",
       "    <tr>\n",
       "      <th>50%</th>\n",
       "      <td>0.000000</td>\n",
       "      <td>0.000000</td>\n",
       "      <td>1.000000</td>\n",
       "      <td>1.000000</td>\n",
       "      <td>0.000000</td>\n",
       "      <td>3.000000</td>\n",
       "      <td>0.000000</td>\n",
       "      <td>0.000000</td>\n",
       "      <td>0.000000</td>\n",
       "      <td>0.000000</td>\n",
       "      <td>0.000000</td>\n",
       "      <td>0.000000</td>\n",
       "      <td>1.000000</td>\n",
       "    </tr>\n",
       "    <tr>\n",
       "      <th>75%</th>\n",
       "      <td>1.000000</td>\n",
       "      <td>1.000000</td>\n",
       "      <td>2.000000</td>\n",
       "      <td>3.000000</td>\n",
       "      <td>2.000000</td>\n",
       "      <td>12.000000</td>\n",
       "      <td>0.000000</td>\n",
       "      <td>1.000000</td>\n",
       "      <td>1.000000</td>\n",
       "      <td>5.080000</td>\n",
       "      <td>5.080000</td>\n",
       "      <td>4.000000</td>\n",
       "      <td>1.000000</td>\n",
       "    </tr>\n",
       "    <tr>\n",
       "      <th>max</th>\n",
       "      <td>6.000000</td>\n",
       "      <td>13.000000</td>\n",
       "      <td>12.000000</td>\n",
       "      <td>28.000000</td>\n",
       "      <td>18.000000</td>\n",
       "      <td>448.000000</td>\n",
       "      <td>16.000000</td>\n",
       "      <td>21.000000</td>\n",
       "      <td>13.000000</td>\n",
       "      <td>33.020000</td>\n",
       "      <td>187.960000</td>\n",
       "      <td>17.000000</td>\n",
       "      <td>1.000000</td>\n",
       "    </tr>\n",
       "  </tbody>\n",
       "</table>\n",
       "</div>"
      ],
      "text/plain": [
       "       lose_streak_dif  win_streak_dif  longest_win_streak_dif      win_dif  \\\n",
       "count      4896.000000     4896.000000             4896.000000  4896.000000   \n",
       "mean          0.135212        0.175654                0.765931     1.412786   \n",
       "std           0.990505        1.729450                2.029394     4.030496   \n",
       "min          -5.000000       -9.000000              -14.000000   -23.000000   \n",
       "25%           0.000000        0.000000                0.000000     0.000000   \n",
       "50%           0.000000        0.000000                1.000000     1.000000   \n",
       "75%           1.000000        1.000000                2.000000     3.000000   \n",
       "max           6.000000       13.000000               12.000000    28.000000   \n",
       "\n",
       "          loss_dif  total_round_dif  total_title_bout_dif       ko_dif  \\\n",
       "count  4896.000000      4896.000000           4896.000000  4896.000000   \n",
       "mean      0.667075         5.208538              0.319444     0.488562   \n",
       "std       2.819143        16.989572              1.649489     2.031889   \n",
       "min     -14.000000       -80.000000            -14.000000   -14.000000   \n",
       "25%      -1.000000        -2.000000              0.000000     0.000000   \n",
       "50%       0.000000         3.000000              0.000000     0.000000   \n",
       "75%       2.000000        12.000000              0.000000     1.000000   \n",
       "max      18.000000       448.000000             16.000000    21.000000   \n",
       "\n",
       "           sub_dif   height_dif    reach_dif      age_dif       Winner  \n",
       "count  4896.000000  4896.000000  4896.000000  4896.000000  4896.000000  \n",
       "mean      0.277574    -0.053721     0.183877     0.538603     0.583946  \n",
       "std       1.759247     6.428207     8.753398     5.156641     0.492953  \n",
       "min     -10.000000   -30.480000   -30.480000   -16.000000     0.000000  \n",
       "25%       0.000000    -5.080000    -5.080000    -3.000000     0.000000  \n",
       "50%       0.000000     0.000000     0.000000     0.000000     1.000000  \n",
       "75%       1.000000     5.080000     5.080000     4.000000     1.000000  \n",
       "max      13.000000    33.020000   187.960000    17.000000     1.000000  "
      ]
     },
     "execution_count": 525,
     "metadata": {},
     "output_type": "execute_result"
    }
   ],
   "source": [
    "# finally, let's check overall description about our defined data\n",
    "dataset_validated = dataset_defined[preds+target]\n",
    "dataset_validated.describe()"
   ]
  },
  {
   "cell_type": "code",
   "execution_count": 526,
   "metadata": {},
   "outputs": [
    {
     "data": {
      "text/html": [
       "<div>\n",
       "<style scoped>\n",
       "    .dataframe tbody tr th:only-of-type {\n",
       "        vertical-align: middle;\n",
       "    }\n",
       "\n",
       "    .dataframe tbody tr th {\n",
       "        vertical-align: top;\n",
       "    }\n",
       "\n",
       "    .dataframe thead th {\n",
       "        text-align: right;\n",
       "    }\n",
       "</style>\n",
       "<table border=\"1\" class=\"dataframe\">\n",
       "  <thead>\n",
       "    <tr style=\"text-align: right;\">\n",
       "      <th></th>\n",
       "      <th>lose_streak_dif</th>\n",
       "      <th>win_streak_dif</th>\n",
       "      <th>longest_win_streak_dif</th>\n",
       "      <th>win_dif</th>\n",
       "      <th>loss_dif</th>\n",
       "      <th>total_round_dif</th>\n",
       "      <th>total_title_bout_dif</th>\n",
       "      <th>ko_dif</th>\n",
       "      <th>sub_dif</th>\n",
       "      <th>height_dif</th>\n",
       "      <th>reach_dif</th>\n",
       "      <th>age_dif</th>\n",
       "      <th>Winner</th>\n",
       "    </tr>\n",
       "  </thead>\n",
       "  <tbody>\n",
       "    <tr>\n",
       "      <th>703</th>\n",
       "      <td>-1</td>\n",
       "      <td>3</td>\n",
       "      <td>3</td>\n",
       "      <td>3</td>\n",
       "      <td>-1</td>\n",
       "      <td>6</td>\n",
       "      <td>0</td>\n",
       "      <td>0</td>\n",
       "      <td>0</td>\n",
       "      <td>15.24</td>\n",
       "      <td>187.96</td>\n",
       "      <td>0</td>\n",
       "      <td>1</td>\n",
       "    </tr>\n",
       "  </tbody>\n",
       "</table>\n",
       "</div>"
      ],
      "text/plain": [
       "     lose_streak_dif  win_streak_dif  longest_win_streak_dif  win_dif  \\\n",
       "703               -1               3                       3        3   \n",
       "\n",
       "     loss_dif  total_round_dif  total_title_bout_dif  ko_dif  sub_dif  \\\n",
       "703        -1                6                     0       0        0   \n",
       "\n",
       "     height_dif  reach_dif  age_dif  Winner  \n",
       "703       15.24     187.96        0       1  "
      ]
     },
     "execution_count": 526,
     "metadata": {},
     "output_type": "execute_result"
    }
   ],
   "source": [
    "# notice there is some anomaly that:\n",
    "# 1. reach_dif = 187.96\n",
    "# 2. total_round_dif = 448\n",
    "# we'll try to sort out those records\n",
    "\n",
    "dataset_validated.loc[dataset_validated['reach_dif'] >= 187]"
   ]
  },
  {
   "cell_type": "code",
   "execution_count": 527,
   "metadata": {},
   "outputs": [
    {
     "data": {
      "text/html": [
       "<div>\n",
       "<style scoped>\n",
       "    .dataframe tbody tr th:only-of-type {\n",
       "        vertical-align: middle;\n",
       "    }\n",
       "\n",
       "    .dataframe tbody tr th {\n",
       "        vertical-align: top;\n",
       "    }\n",
       "\n",
       "    .dataframe thead th {\n",
       "        text-align: right;\n",
       "    }\n",
       "</style>\n",
       "<table border=\"1\" class=\"dataframe\">\n",
       "  <thead>\n",
       "    <tr style=\"text-align: right;\">\n",
       "      <th></th>\n",
       "      <th>lose_streak_dif</th>\n",
       "      <th>win_streak_dif</th>\n",
       "      <th>longest_win_streak_dif</th>\n",
       "      <th>win_dif</th>\n",
       "      <th>loss_dif</th>\n",
       "      <th>total_round_dif</th>\n",
       "      <th>total_title_bout_dif</th>\n",
       "      <th>ko_dif</th>\n",
       "      <th>sub_dif</th>\n",
       "      <th>height_dif</th>\n",
       "      <th>reach_dif</th>\n",
       "      <th>age_dif</th>\n",
       "      <th>Winner</th>\n",
       "    </tr>\n",
       "  </thead>\n",
       "  <tbody>\n",
       "  </tbody>\n",
       "</table>\n",
       "</div>"
      ],
      "text/plain": [
       "Empty DataFrame\n",
       "Columns: [lose_streak_dif, win_streak_dif, longest_win_streak_dif, win_dif, loss_dif, total_round_dif, total_title_bout_dif, ko_dif, sub_dif, height_dif, reach_dif, age_dif, Winner]\n",
       "Index: []"
      ]
     },
     "execution_count": 527,
     "metadata": {},
     "output_type": "execute_result"
    }
   ],
   "source": [
    "# first for the 'reach_dif'\n",
    "outlier_ind = dataset_validated.loc[dataset_validated['reach_dif'] >= 187].index\n",
    "temp_df = dataset_validated.drop(index=outlier_ind).copy()\n",
    "temp_df.loc[dataset_validated['reach_dif'] >= 187]"
   ]
  },
  {
   "cell_type": "code",
   "execution_count": 528,
   "metadata": {},
   "outputs": [],
   "source": [
    "dataset_validated = temp_df"
   ]
  },
  {
   "cell_type": "code",
   "execution_count": 529,
   "metadata": {},
   "outputs": [
    {
     "data": {
      "text/html": [
       "<div>\n",
       "<style scoped>\n",
       "    .dataframe tbody tr th:only-of-type {\n",
       "        vertical-align: middle;\n",
       "    }\n",
       "\n",
       "    .dataframe tbody tr th {\n",
       "        vertical-align: top;\n",
       "    }\n",
       "\n",
       "    .dataframe thead th {\n",
       "        text-align: right;\n",
       "    }\n",
       "</style>\n",
       "<table border=\"1\" class=\"dataframe\">\n",
       "  <thead>\n",
       "    <tr style=\"text-align: right;\">\n",
       "      <th></th>\n",
       "      <th>lose_streak_dif</th>\n",
       "      <th>win_streak_dif</th>\n",
       "      <th>longest_win_streak_dif</th>\n",
       "      <th>win_dif</th>\n",
       "      <th>loss_dif</th>\n",
       "      <th>total_round_dif</th>\n",
       "      <th>total_title_bout_dif</th>\n",
       "      <th>ko_dif</th>\n",
       "      <th>sub_dif</th>\n",
       "      <th>height_dif</th>\n",
       "      <th>reach_dif</th>\n",
       "      <th>age_dif</th>\n",
       "      <th>Winner</th>\n",
       "    </tr>\n",
       "  </thead>\n",
       "  <tbody>\n",
       "    <tr>\n",
       "      <th>537</th>\n",
       "      <td>-1</td>\n",
       "      <td>1</td>\n",
       "      <td>2</td>\n",
       "      <td>6</td>\n",
       "      <td>3</td>\n",
       "      <td>448</td>\n",
       "      <td>0</td>\n",
       "      <td>0</td>\n",
       "      <td>0</td>\n",
       "      <td>-2.54</td>\n",
       "      <td>-12.7</td>\n",
       "      <td>2</td>\n",
       "      <td>1</td>\n",
       "    </tr>\n",
       "  </tbody>\n",
       "</table>\n",
       "</div>"
      ],
      "text/plain": [
       "     lose_streak_dif  win_streak_dif  longest_win_streak_dif  win_dif  \\\n",
       "537               -1               1                       2        6   \n",
       "\n",
       "     loss_dif  total_round_dif  total_title_bout_dif  ko_dif  sub_dif  \\\n",
       "537         3              448                     0       0        0   \n",
       "\n",
       "     height_dif  reach_dif  age_dif  Winner  \n",
       "537       -2.54      -12.7        2       1  "
      ]
     },
     "execution_count": 529,
     "metadata": {},
     "output_type": "execute_result"
    }
   ],
   "source": [
    "# now for the 'total_round_dif'\n",
    "dataset_validated.loc[dataset_validated['total_round_dif'] == 448]"
   ]
  },
  {
   "cell_type": "code",
   "execution_count": 530,
   "metadata": {},
   "outputs": [
    {
     "data": {
      "text/html": [
       "<div>\n",
       "<style scoped>\n",
       "    .dataframe tbody tr th:only-of-type {\n",
       "        vertical-align: middle;\n",
       "    }\n",
       "\n",
       "    .dataframe tbody tr th {\n",
       "        vertical-align: top;\n",
       "    }\n",
       "\n",
       "    .dataframe thead th {\n",
       "        text-align: right;\n",
       "    }\n",
       "</style>\n",
       "<table border=\"1\" class=\"dataframe\">\n",
       "  <thead>\n",
       "    <tr style=\"text-align: right;\">\n",
       "      <th></th>\n",
       "      <th>lose_streak_dif</th>\n",
       "      <th>win_streak_dif</th>\n",
       "      <th>longest_win_streak_dif</th>\n",
       "      <th>win_dif</th>\n",
       "      <th>loss_dif</th>\n",
       "      <th>total_round_dif</th>\n",
       "      <th>total_title_bout_dif</th>\n",
       "      <th>ko_dif</th>\n",
       "      <th>sub_dif</th>\n",
       "      <th>height_dif</th>\n",
       "      <th>reach_dif</th>\n",
       "      <th>age_dif</th>\n",
       "      <th>Winner</th>\n",
       "    </tr>\n",
       "  </thead>\n",
       "  <tbody>\n",
       "  </tbody>\n",
       "</table>\n",
       "</div>"
      ],
      "text/plain": [
       "Empty DataFrame\n",
       "Columns: [lose_streak_dif, win_streak_dif, longest_win_streak_dif, win_dif, loss_dif, total_round_dif, total_title_bout_dif, ko_dif, sub_dif, height_dif, reach_dif, age_dif, Winner]\n",
       "Index: []"
      ]
     },
     "execution_count": 530,
     "metadata": {},
     "output_type": "execute_result"
    }
   ],
   "source": [
    "outlier_ind = dataset_validated.loc[dataset_validated['total_round_dif'] == 448].index\n",
    "temp_df = dataset_validated.drop(index=outlier_ind).copy()\n",
    "temp_df.loc[dataset_validated['total_round_dif'] == 448]"
   ]
  },
  {
   "cell_type": "code",
   "execution_count": 531,
   "metadata": {},
   "outputs": [],
   "source": [
    "dataset_validated = temp_df"
   ]
  },
  {
   "cell_type": "code",
   "execution_count": 532,
   "metadata": {},
   "outputs": [
    {
     "data": {
      "text/html": [
       "<div>\n",
       "<style scoped>\n",
       "    .dataframe tbody tr th:only-of-type {\n",
       "        vertical-align: middle;\n",
       "    }\n",
       "\n",
       "    .dataframe tbody tr th {\n",
       "        vertical-align: top;\n",
       "    }\n",
       "\n",
       "    .dataframe thead th {\n",
       "        text-align: right;\n",
       "    }\n",
       "</style>\n",
       "<table border=\"1\" class=\"dataframe\">\n",
       "  <thead>\n",
       "    <tr style=\"text-align: right;\">\n",
       "      <th></th>\n",
       "      <th>lose_streak_dif</th>\n",
       "      <th>win_streak_dif</th>\n",
       "      <th>longest_win_streak_dif</th>\n",
       "      <th>win_dif</th>\n",
       "      <th>loss_dif</th>\n",
       "      <th>total_round_dif</th>\n",
       "      <th>total_title_bout_dif</th>\n",
       "      <th>ko_dif</th>\n",
       "      <th>sub_dif</th>\n",
       "      <th>height_dif</th>\n",
       "      <th>reach_dif</th>\n",
       "      <th>age_dif</th>\n",
       "      <th>Winner</th>\n",
       "    </tr>\n",
       "  </thead>\n",
       "  <tbody>\n",
       "    <tr>\n",
       "      <th>count</th>\n",
       "      <td>4894.000000</td>\n",
       "      <td>4894.000000</td>\n",
       "      <td>4894.000000</td>\n",
       "      <td>4894.000000</td>\n",
       "      <td>4894.000000</td>\n",
       "      <td>4894.000000</td>\n",
       "      <td>4894.000000</td>\n",
       "      <td>4894.000000</td>\n",
       "      <td>4894.000000</td>\n",
       "      <td>4894.000000</td>\n",
       "      <td>4894.000000</td>\n",
       "      <td>4894.000000</td>\n",
       "      <td>4894.000000</td>\n",
       "    </tr>\n",
       "    <tr>\n",
       "      <th>mean</th>\n",
       "      <td>0.135676</td>\n",
       "      <td>0.174908</td>\n",
       "      <td>0.765223</td>\n",
       "      <td>1.411524</td>\n",
       "      <td>0.666939</td>\n",
       "      <td>5.117899</td>\n",
       "      <td>0.319575</td>\n",
       "      <td>0.488762</td>\n",
       "      <td>0.277687</td>\n",
       "      <td>-0.056338</td>\n",
       "      <td>0.148141</td>\n",
       "      <td>0.538414</td>\n",
       "      <td>0.583776</td>\n",
       "    </tr>\n",
       "    <tr>\n",
       "      <th>std</th>\n",
       "      <td>0.990442</td>\n",
       "      <td>1.729292</td>\n",
       "      <td>2.029480</td>\n",
       "      <td>4.030722</td>\n",
       "      <td>2.819421</td>\n",
       "      <td>15.769745</td>\n",
       "      <td>1.649814</td>\n",
       "      <td>2.032280</td>\n",
       "      <td>1.759597</td>\n",
       "      <td>6.425703</td>\n",
       "      <td>8.331381</td>\n",
       "      <td>5.157647</td>\n",
       "      <td>0.492982</td>\n",
       "    </tr>\n",
       "    <tr>\n",
       "      <th>min</th>\n",
       "      <td>-5.000000</td>\n",
       "      <td>-9.000000</td>\n",
       "      <td>-14.000000</td>\n",
       "      <td>-23.000000</td>\n",
       "      <td>-14.000000</td>\n",
       "      <td>-80.000000</td>\n",
       "      <td>-14.000000</td>\n",
       "      <td>-14.000000</td>\n",
       "      <td>-10.000000</td>\n",
       "      <td>-30.480000</td>\n",
       "      <td>-30.480000</td>\n",
       "      <td>-16.000000</td>\n",
       "      <td>0.000000</td>\n",
       "    </tr>\n",
       "    <tr>\n",
       "      <th>25%</th>\n",
       "      <td>0.000000</td>\n",
       "      <td>0.000000</td>\n",
       "      <td>0.000000</td>\n",
       "      <td>0.000000</td>\n",
       "      <td>-1.000000</td>\n",
       "      <td>-2.000000</td>\n",
       "      <td>0.000000</td>\n",
       "      <td>0.000000</td>\n",
       "      <td>0.000000</td>\n",
       "      <td>-5.080000</td>\n",
       "      <td>-5.080000</td>\n",
       "      <td>-3.000000</td>\n",
       "      <td>0.000000</td>\n",
       "    </tr>\n",
       "    <tr>\n",
       "      <th>50%</th>\n",
       "      <td>0.000000</td>\n",
       "      <td>0.000000</td>\n",
       "      <td>1.000000</td>\n",
       "      <td>1.000000</td>\n",
       "      <td>0.000000</td>\n",
       "      <td>3.000000</td>\n",
       "      <td>0.000000</td>\n",
       "      <td>0.000000</td>\n",
       "      <td>0.000000</td>\n",
       "      <td>0.000000</td>\n",
       "      <td>0.000000</td>\n",
       "      <td>0.000000</td>\n",
       "      <td>1.000000</td>\n",
       "    </tr>\n",
       "    <tr>\n",
       "      <th>75%</th>\n",
       "      <td>1.000000</td>\n",
       "      <td>1.000000</td>\n",
       "      <td>2.000000</td>\n",
       "      <td>3.000000</td>\n",
       "      <td>2.000000</td>\n",
       "      <td>12.000000</td>\n",
       "      <td>0.000000</td>\n",
       "      <td>1.000000</td>\n",
       "      <td>1.000000</td>\n",
       "      <td>5.080000</td>\n",
       "      <td>5.080000</td>\n",
       "      <td>4.000000</td>\n",
       "      <td>1.000000</td>\n",
       "    </tr>\n",
       "    <tr>\n",
       "      <th>max</th>\n",
       "      <td>6.000000</td>\n",
       "      <td>13.000000</td>\n",
       "      <td>12.000000</td>\n",
       "      <td>28.000000</td>\n",
       "      <td>18.000000</td>\n",
       "      <td>86.000000</td>\n",
       "      <td>16.000000</td>\n",
       "      <td>21.000000</td>\n",
       "      <td>13.000000</td>\n",
       "      <td>33.020000</td>\n",
       "      <td>33.020000</td>\n",
       "      <td>17.000000</td>\n",
       "      <td>1.000000</td>\n",
       "    </tr>\n",
       "  </tbody>\n",
       "</table>\n",
       "</div>"
      ],
      "text/plain": [
       "       lose_streak_dif  win_streak_dif  longest_win_streak_dif      win_dif  \\\n",
       "count      4894.000000     4894.000000             4894.000000  4894.000000   \n",
       "mean          0.135676        0.174908                0.765223     1.411524   \n",
       "std           0.990442        1.729292                2.029480     4.030722   \n",
       "min          -5.000000       -9.000000              -14.000000   -23.000000   \n",
       "25%           0.000000        0.000000                0.000000     0.000000   \n",
       "50%           0.000000        0.000000                1.000000     1.000000   \n",
       "75%           1.000000        1.000000                2.000000     3.000000   \n",
       "max           6.000000       13.000000               12.000000    28.000000   \n",
       "\n",
       "          loss_dif  total_round_dif  total_title_bout_dif       ko_dif  \\\n",
       "count  4894.000000      4894.000000           4894.000000  4894.000000   \n",
       "mean      0.666939         5.117899              0.319575     0.488762   \n",
       "std       2.819421        15.769745              1.649814     2.032280   \n",
       "min     -14.000000       -80.000000            -14.000000   -14.000000   \n",
       "25%      -1.000000        -2.000000              0.000000     0.000000   \n",
       "50%       0.000000         3.000000              0.000000     0.000000   \n",
       "75%       2.000000        12.000000              0.000000     1.000000   \n",
       "max      18.000000        86.000000             16.000000    21.000000   \n",
       "\n",
       "           sub_dif   height_dif    reach_dif      age_dif       Winner  \n",
       "count  4894.000000  4894.000000  4894.000000  4894.000000  4894.000000  \n",
       "mean      0.277687    -0.056338     0.148141     0.538414     0.583776  \n",
       "std       1.759597     6.425703     8.331381     5.157647     0.492982  \n",
       "min     -10.000000   -30.480000   -30.480000   -16.000000     0.000000  \n",
       "25%       0.000000    -5.080000    -5.080000    -3.000000     0.000000  \n",
       "50%       0.000000     0.000000     0.000000     0.000000     1.000000  \n",
       "75%       1.000000     5.080000     5.080000     4.000000     1.000000  \n",
       "max      13.000000    33.020000    33.020000    17.000000     1.000000  "
      ]
     },
     "execution_count": 532,
     "metadata": {},
     "output_type": "execute_result"
    }
   ],
   "source": [
    "dataset_validated.describe()"
   ]
  },
  {
   "cell_type": "code",
   "execution_count": 533,
   "metadata": {},
   "outputs": [],
   "source": [
    "# now our dataset looks more healthy :)"
   ]
  },
  {
   "cell_type": "markdown",
   "metadata": {},
   "source": [
    "# 5. Data Defense"
   ]
  },
  {
   "cell_type": "code",
   "execution_count": 534,
   "metadata": {},
   "outputs": [],
   "source": [
    "# now let's make our data defense\n",
    "# for now we'll only going to check the data types\n",
    "def check_data(df: pd.DataFrame, config: dict) -> None:\n",
    "    # check data types\n",
    "    assert df.select_dtypes('int').columns.to_list() == config['int_columns'], \"an error occurs in int column(s).\"\n",
    "    assert df.select_dtypes('float').columns.to_list() == config['float_columns'], \"an error occurs in float column(s).\""
   ]
  },
  {
   "cell_type": "code",
   "execution_count": 535,
   "metadata": {},
   "outputs": [],
   "source": [
    "check_data(dataset_validated, config)"
   ]
  },
  {
   "cell_type": "markdown",
   "metadata": {},
   "source": [
    "# 6. Data Splitting"
   ]
  },
  {
   "cell_type": "code",
   "execution_count": 544,
   "metadata": {},
   "outputs": [],
   "source": [
    "x = dataset_validated[config[\"predictors\"]].copy()\n",
    "y = dataset_validated[config[\"target\"]].copy()"
   ]
  },
  {
   "cell_type": "code",
   "execution_count": 545,
   "metadata": {},
   "outputs": [
    {
     "data": {
      "text/html": [
       "<div>\n",
       "<style scoped>\n",
       "    .dataframe tbody tr th:only-of-type {\n",
       "        vertical-align: middle;\n",
       "    }\n",
       "\n",
       "    .dataframe tbody tr th {\n",
       "        vertical-align: top;\n",
       "    }\n",
       "\n",
       "    .dataframe thead th {\n",
       "        text-align: right;\n",
       "    }\n",
       "</style>\n",
       "<table border=\"1\" class=\"dataframe\">\n",
       "  <thead>\n",
       "    <tr style=\"text-align: right;\">\n",
       "      <th></th>\n",
       "      <th>lose_streak_dif</th>\n",
       "      <th>win_streak_dif</th>\n",
       "      <th>longest_win_streak_dif</th>\n",
       "      <th>win_dif</th>\n",
       "      <th>loss_dif</th>\n",
       "      <th>total_round_dif</th>\n",
       "      <th>total_title_bout_dif</th>\n",
       "      <th>ko_dif</th>\n",
       "      <th>sub_dif</th>\n",
       "      <th>height_dif</th>\n",
       "      <th>reach_dif</th>\n",
       "      <th>age_dif</th>\n",
       "    </tr>\n",
       "  </thead>\n",
       "  <tbody>\n",
       "    <tr>\n",
       "      <th>0</th>\n",
       "      <td>3</td>\n",
       "      <td>-1</td>\n",
       "      <td>0</td>\n",
       "      <td>8</td>\n",
       "      <td>6</td>\n",
       "      <td>32</td>\n",
       "      <td>1</td>\n",
       "      <td>7</td>\n",
       "      <td>0</td>\n",
       "      <td>-10.16</td>\n",
       "      <td>-15.24</td>\n",
       "      <td>8</td>\n",
       "    </tr>\n",
       "    <tr>\n",
       "      <th>1</th>\n",
       "      <td>0</td>\n",
       "      <td>0</td>\n",
       "      <td>2</td>\n",
       "      <td>5</td>\n",
       "      <td>3</td>\n",
       "      <td>20</td>\n",
       "      <td>0</td>\n",
       "      <td>0</td>\n",
       "      <td>1</td>\n",
       "      <td>-2.54</td>\n",
       "      <td>0.00</td>\n",
       "      <td>1</td>\n",
       "    </tr>\n",
       "    <tr>\n",
       "      <th>2</th>\n",
       "      <td>0</td>\n",
       "      <td>0</td>\n",
       "      <td>-1</td>\n",
       "      <td>-3</td>\n",
       "      <td>-1</td>\n",
       "      <td>-25</td>\n",
       "      <td>0</td>\n",
       "      <td>0</td>\n",
       "      <td>5</td>\n",
       "      <td>5.08</td>\n",
       "      <td>0.00</td>\n",
       "      <td>2</td>\n",
       "    </tr>\n",
       "    <tr>\n",
       "      <th>3</th>\n",
       "      <td>0</td>\n",
       "      <td>0</td>\n",
       "      <td>2</td>\n",
       "      <td>4</td>\n",
       "      <td>2</td>\n",
       "      <td>12</td>\n",
       "      <td>0</td>\n",
       "      <td>2</td>\n",
       "      <td>0</td>\n",
       "      <td>-2.54</td>\n",
       "      <td>5.08</td>\n",
       "      <td>-3</td>\n",
       "    </tr>\n",
       "    <tr>\n",
       "      <th>4</th>\n",
       "      <td>0</td>\n",
       "      <td>2</td>\n",
       "      <td>2</td>\n",
       "      <td>-1</td>\n",
       "      <td>-3</td>\n",
       "      <td>-11</td>\n",
       "      <td>0</td>\n",
       "      <td>-1</td>\n",
       "      <td>2</td>\n",
       "      <td>0.00</td>\n",
       "      <td>5.08</td>\n",
       "      <td>-5</td>\n",
       "    </tr>\n",
       "    <tr>\n",
       "      <th>...</th>\n",
       "      <td>...</td>\n",
       "      <td>...</td>\n",
       "      <td>...</td>\n",
       "      <td>...</td>\n",
       "      <td>...</td>\n",
       "      <td>...</td>\n",
       "      <td>...</td>\n",
       "      <td>...</td>\n",
       "      <td>...</td>\n",
       "      <td>...</td>\n",
       "      <td>...</td>\n",
       "      <td>...</td>\n",
       "    </tr>\n",
       "    <tr>\n",
       "      <th>4891</th>\n",
       "      <td>1</td>\n",
       "      <td>0</td>\n",
       "      <td>2</td>\n",
       "      <td>2</td>\n",
       "      <td>1</td>\n",
       "      <td>5</td>\n",
       "      <td>0</td>\n",
       "      <td>1</td>\n",
       "      <td>0</td>\n",
       "      <td>0.00</td>\n",
       "      <td>-2.54</td>\n",
       "      <td>6</td>\n",
       "    </tr>\n",
       "    <tr>\n",
       "      <th>4892</th>\n",
       "      <td>0</td>\n",
       "      <td>3</td>\n",
       "      <td>3</td>\n",
       "      <td>3</td>\n",
       "      <td>0</td>\n",
       "      <td>9</td>\n",
       "      <td>0</td>\n",
       "      <td>1</td>\n",
       "      <td>0</td>\n",
       "      <td>-7.62</td>\n",
       "      <td>-7.62</td>\n",
       "      <td>-2</td>\n",
       "    </tr>\n",
       "    <tr>\n",
       "      <th>4893</th>\n",
       "      <td>0</td>\n",
       "      <td>0</td>\n",
       "      <td>0</td>\n",
       "      <td>0</td>\n",
       "      <td>0</td>\n",
       "      <td>0</td>\n",
       "      <td>1</td>\n",
       "      <td>0</td>\n",
       "      <td>0</td>\n",
       "      <td>2.54</td>\n",
       "      <td>2.12</td>\n",
       "      <td>0</td>\n",
       "    </tr>\n",
       "    <tr>\n",
       "      <th>4894</th>\n",
       "      <td>1</td>\n",
       "      <td>0</td>\n",
       "      <td>1</td>\n",
       "      <td>1</td>\n",
       "      <td>1</td>\n",
       "      <td>6</td>\n",
       "      <td>0</td>\n",
       "      <td>0</td>\n",
       "      <td>0</td>\n",
       "      <td>-10.16</td>\n",
       "      <td>-7.62</td>\n",
       "      <td>-5</td>\n",
       "    </tr>\n",
       "    <tr>\n",
       "      <th>4895</th>\n",
       "      <td>0</td>\n",
       "      <td>0</td>\n",
       "      <td>0</td>\n",
       "      <td>1</td>\n",
       "      <td>2</td>\n",
       "      <td>1</td>\n",
       "      <td>0</td>\n",
       "      <td>0</td>\n",
       "      <td>2</td>\n",
       "      <td>10.16</td>\n",
       "      <td>10.16</td>\n",
       "      <td>-2</td>\n",
       "    </tr>\n",
       "  </tbody>\n",
       "</table>\n",
       "<p>4894 rows × 12 columns</p>\n",
       "</div>"
      ],
      "text/plain": [
       "      lose_streak_dif  win_streak_dif  longest_win_streak_dif  win_dif  \\\n",
       "0                   3              -1                       0        8   \n",
       "1                   0               0                       2        5   \n",
       "2                   0               0                      -1       -3   \n",
       "3                   0               0                       2        4   \n",
       "4                   0               2                       2       -1   \n",
       "...               ...             ...                     ...      ...   \n",
       "4891                1               0                       2        2   \n",
       "4892                0               3                       3        3   \n",
       "4893                0               0                       0        0   \n",
       "4894                1               0                       1        1   \n",
       "4895                0               0                       0        1   \n",
       "\n",
       "      loss_dif  total_round_dif  total_title_bout_dif  ko_dif  sub_dif  \\\n",
       "0            6               32                     1       7        0   \n",
       "1            3               20                     0       0        1   \n",
       "2           -1              -25                     0       0        5   \n",
       "3            2               12                     0       2        0   \n",
       "4           -3              -11                     0      -1        2   \n",
       "...        ...              ...                   ...     ...      ...   \n",
       "4891         1                5                     0       1        0   \n",
       "4892         0                9                     0       1        0   \n",
       "4893         0                0                     1       0        0   \n",
       "4894         1                6                     0       0        0   \n",
       "4895         2                1                     0       0        2   \n",
       "\n",
       "      height_dif  reach_dif  age_dif  \n",
       "0         -10.16     -15.24        8  \n",
       "1          -2.54       0.00        1  \n",
       "2           5.08       0.00        2  \n",
       "3          -2.54       5.08       -3  \n",
       "4           0.00       5.08       -5  \n",
       "...          ...        ...      ...  \n",
       "4891        0.00      -2.54        6  \n",
       "4892       -7.62      -7.62       -2  \n",
       "4893        2.54       2.12        0  \n",
       "4894      -10.16      -7.62       -5  \n",
       "4895       10.16      10.16       -2  \n",
       "\n",
       "[4894 rows x 12 columns]"
      ]
     },
     "execution_count": 545,
     "metadata": {},
     "output_type": "execute_result"
    }
   ],
   "source": [
    "x"
   ]
  },
  {
   "cell_type": "code",
   "execution_count": 546,
   "metadata": {},
   "outputs": [
    {
     "data": {
      "text/plain": [
       "0       1\n",
       "1       0\n",
       "2       0\n",
       "3       1\n",
       "4       0\n",
       "       ..\n",
       "4891    0\n",
       "4892    1\n",
       "4893    1\n",
       "4894    1\n",
       "4895    0\n",
       "Name: Winner, Length: 4894, dtype: int64"
      ]
     },
     "execution_count": 546,
     "metadata": {},
     "output_type": "execute_result"
    }
   ],
   "source": [
    "y"
   ]
  },
  {
   "cell_type": "code",
   "execution_count": 547,
   "metadata": {},
   "outputs": [],
   "source": [
    "# let's split our dataset into train and test set\n",
    "test_size = config['test_size']\n",
    "x_train, x_test, y_train, y_test = train_test_split(x, y, test_size = test_size, random_state = 99, stratify = y)"
   ]
  },
  {
   "cell_type": "code",
   "execution_count": 548,
   "metadata": {},
   "outputs": [],
   "source": [
    "# then split our test set into valid and test set\n",
    "valid_size = config['valid_size']\n",
    "x_valid, x_test, y_valid, y_test = train_test_split(x_test, y_test, test_size = valid_size, random_state = 99, stratify = y_test)"
   ]
  },
  {
   "cell_type": "code",
   "execution_count": 549,
   "metadata": {},
   "outputs": [],
   "source": [
    "utils.pickle_dump(dataset_validated, config[\"dataset_cleaned_path\"])\n",
    "\n",
    "utils.pickle_dump(x_train, config[\"train_set_path\"][0])\n",
    "utils.pickle_dump(y_train, config[\"train_set_path\"][1])\n",
    "\n",
    "utils.pickle_dump(x_valid, config[\"valid_set_path\"][0])\n",
    "utils.pickle_dump(y_valid, config[\"valid_set_path\"][1])\n",
    "\n",
    "utils.pickle_dump(x_test, config[\"test_set_path\"][0])\n",
    "utils.pickle_dump(y_test, config[\"test_set_path\"][1])"
   ]
  },
  {
   "cell_type": "code",
   "execution_count": 552,
   "metadata": {},
   "outputs": [],
   "source": [
    "train_set = pd.concat([x_train, y_train], axis = 1)"
   ]
  },
  {
   "cell_type": "code",
   "execution_count": 553,
   "metadata": {},
   "outputs": [
    {
     "data": {
      "text/html": [
       "<div>\n",
       "<style scoped>\n",
       "    .dataframe tbody tr th:only-of-type {\n",
       "        vertical-align: middle;\n",
       "    }\n",
       "\n",
       "    .dataframe tbody tr th {\n",
       "        vertical-align: top;\n",
       "    }\n",
       "\n",
       "    .dataframe thead th {\n",
       "        text-align: right;\n",
       "    }\n",
       "</style>\n",
       "<table border=\"1\" class=\"dataframe\">\n",
       "  <thead>\n",
       "    <tr style=\"text-align: right;\">\n",
       "      <th></th>\n",
       "      <th>lose_streak_dif</th>\n",
       "      <th>win_streak_dif</th>\n",
       "      <th>longest_win_streak_dif</th>\n",
       "      <th>win_dif</th>\n",
       "      <th>loss_dif</th>\n",
       "      <th>total_round_dif</th>\n",
       "      <th>total_title_bout_dif</th>\n",
       "      <th>ko_dif</th>\n",
       "      <th>sub_dif</th>\n",
       "      <th>height_dif</th>\n",
       "      <th>reach_dif</th>\n",
       "      <th>age_dif</th>\n",
       "      <th>Winner</th>\n",
       "    </tr>\n",
       "  </thead>\n",
       "  <tbody>\n",
       "    <tr>\n",
       "      <th>count</th>\n",
       "      <td>3425.000000</td>\n",
       "      <td>3425.000000</td>\n",
       "      <td>3425.000000</td>\n",
       "      <td>3425.000000</td>\n",
       "      <td>3425.000000</td>\n",
       "      <td>3425.000000</td>\n",
       "      <td>3425.000000</td>\n",
       "      <td>3425.000000</td>\n",
       "      <td>3425.000000</td>\n",
       "      <td>3425.000000</td>\n",
       "      <td>3425.000000</td>\n",
       "      <td>3425.000000</td>\n",
       "      <td>3425.000000</td>\n",
       "    </tr>\n",
       "    <tr>\n",
       "      <th>mean</th>\n",
       "      <td>0.155912</td>\n",
       "      <td>0.164380</td>\n",
       "      <td>0.745401</td>\n",
       "      <td>1.390657</td>\n",
       "      <td>0.680292</td>\n",
       "      <td>4.987153</td>\n",
       "      <td>0.284672</td>\n",
       "      <td>0.474745</td>\n",
       "      <td>0.290219</td>\n",
       "      <td>0.007007</td>\n",
       "      <td>0.197629</td>\n",
       "      <td>0.630365</td>\n",
       "      <td>0.583650</td>\n",
       "    </tr>\n",
       "    <tr>\n",
       "      <th>std</th>\n",
       "      <td>0.991309</td>\n",
       "      <td>1.658881</td>\n",
       "      <td>2.000437</td>\n",
       "      <td>4.061275</td>\n",
       "      <td>2.854274</td>\n",
       "      <td>15.951257</td>\n",
       "      <td>1.612003</td>\n",
       "      <td>2.030007</td>\n",
       "      <td>1.765248</td>\n",
       "      <td>6.368540</td>\n",
       "      <td>8.400836</td>\n",
       "      <td>5.178080</td>\n",
       "      <td>0.493025</td>\n",
       "    </tr>\n",
       "    <tr>\n",
       "      <th>min</th>\n",
       "      <td>-5.000000</td>\n",
       "      <td>-8.000000</td>\n",
       "      <td>-14.000000</td>\n",
       "      <td>-23.000000</td>\n",
       "      <td>-14.000000</td>\n",
       "      <td>-80.000000</td>\n",
       "      <td>-14.000000</td>\n",
       "      <td>-14.000000</td>\n",
       "      <td>-10.000000</td>\n",
       "      <td>-30.480000</td>\n",
       "      <td>-30.480000</td>\n",
       "      <td>-16.000000</td>\n",
       "      <td>0.000000</td>\n",
       "    </tr>\n",
       "    <tr>\n",
       "      <th>25%</th>\n",
       "      <td>0.000000</td>\n",
       "      <td>0.000000</td>\n",
       "      <td>0.000000</td>\n",
       "      <td>0.000000</td>\n",
       "      <td>-1.000000</td>\n",
       "      <td>-2.000000</td>\n",
       "      <td>0.000000</td>\n",
       "      <td>0.000000</td>\n",
       "      <td>0.000000</td>\n",
       "      <td>-5.080000</td>\n",
       "      <td>-5.080000</td>\n",
       "      <td>-3.000000</td>\n",
       "      <td>0.000000</td>\n",
       "    </tr>\n",
       "    <tr>\n",
       "      <th>50%</th>\n",
       "      <td>0.000000</td>\n",
       "      <td>0.000000</td>\n",
       "      <td>1.000000</td>\n",
       "      <td>1.000000</td>\n",
       "      <td>0.000000</td>\n",
       "      <td>3.000000</td>\n",
       "      <td>0.000000</td>\n",
       "      <td>0.000000</td>\n",
       "      <td>0.000000</td>\n",
       "      <td>0.000000</td>\n",
       "      <td>0.000000</td>\n",
       "      <td>1.000000</td>\n",
       "      <td>1.000000</td>\n",
       "    </tr>\n",
       "    <tr>\n",
       "      <th>75%</th>\n",
       "      <td>1.000000</td>\n",
       "      <td>1.000000</td>\n",
       "      <td>2.000000</td>\n",
       "      <td>3.000000</td>\n",
       "      <td>2.000000</td>\n",
       "      <td>12.000000</td>\n",
       "      <td>0.000000</td>\n",
       "      <td>1.000000</td>\n",
       "      <td>1.000000</td>\n",
       "      <td>5.080000</td>\n",
       "      <td>5.080000</td>\n",
       "      <td>4.000000</td>\n",
       "      <td>1.000000</td>\n",
       "    </tr>\n",
       "    <tr>\n",
       "      <th>max</th>\n",
       "      <td>6.000000</td>\n",
       "      <td>12.000000</td>\n",
       "      <td>12.000000</td>\n",
       "      <td>28.000000</td>\n",
       "      <td>18.000000</td>\n",
       "      <td>84.000000</td>\n",
       "      <td>16.000000</td>\n",
       "      <td>21.000000</td>\n",
       "      <td>13.000000</td>\n",
       "      <td>25.400000</td>\n",
       "      <td>30.480000</td>\n",
       "      <td>17.000000</td>\n",
       "      <td>1.000000</td>\n",
       "    </tr>\n",
       "  </tbody>\n",
       "</table>\n",
       "</div>"
      ],
      "text/plain": [
       "       lose_streak_dif  win_streak_dif  longest_win_streak_dif      win_dif  \\\n",
       "count      3425.000000     3425.000000             3425.000000  3425.000000   \n",
       "mean          0.155912        0.164380                0.745401     1.390657   \n",
       "std           0.991309        1.658881                2.000437     4.061275   \n",
       "min          -5.000000       -8.000000              -14.000000   -23.000000   \n",
       "25%           0.000000        0.000000                0.000000     0.000000   \n",
       "50%           0.000000        0.000000                1.000000     1.000000   \n",
       "75%           1.000000        1.000000                2.000000     3.000000   \n",
       "max           6.000000       12.000000               12.000000    28.000000   \n",
       "\n",
       "          loss_dif  total_round_dif  total_title_bout_dif       ko_dif  \\\n",
       "count  3425.000000      3425.000000           3425.000000  3425.000000   \n",
       "mean      0.680292         4.987153              0.284672     0.474745   \n",
       "std       2.854274        15.951257              1.612003     2.030007   \n",
       "min     -14.000000       -80.000000            -14.000000   -14.000000   \n",
       "25%      -1.000000        -2.000000              0.000000     0.000000   \n",
       "50%       0.000000         3.000000              0.000000     0.000000   \n",
       "75%       2.000000        12.000000              0.000000     1.000000   \n",
       "max      18.000000        84.000000             16.000000    21.000000   \n",
       "\n",
       "           sub_dif   height_dif    reach_dif      age_dif       Winner  \n",
       "count  3425.000000  3425.000000  3425.000000  3425.000000  3425.000000  \n",
       "mean      0.290219     0.007007     0.197629     0.630365     0.583650  \n",
       "std       1.765248     6.368540     8.400836     5.178080     0.493025  \n",
       "min     -10.000000   -30.480000   -30.480000   -16.000000     0.000000  \n",
       "25%       0.000000    -5.080000    -5.080000    -3.000000     0.000000  \n",
       "50%       0.000000     0.000000     0.000000     1.000000     1.000000  \n",
       "75%       1.000000     5.080000     5.080000     4.000000     1.000000  \n",
       "max      13.000000    25.400000    30.480000    17.000000     1.000000  "
      ]
     },
     "execution_count": 553,
     "metadata": {},
     "output_type": "execute_result"
    }
   ],
   "source": [
    "train_set.describe()"
   ]
  },
  {
   "cell_type": "code",
   "execution_count": 554,
   "metadata": {},
   "outputs": [],
   "source": [
    "train_set.to_csv(config['csv_for_eda_path'], index=False)"
   ]
  },
  {
   "cell_type": "markdown",
   "metadata": {},
   "source": [
    "# \\#2 Attempt"
   ]
  },
  {
   "cell_type": "markdown",
   "metadata": {},
   "source": [
    "After our failed first attempt to find a nice set of features, let's take a second look at our original dataset."
   ]
  },
  {
   "cell_type": "code",
   "execution_count": 556,
   "metadata": {},
   "outputs": [
    {
     "data": {
      "text/html": [
       "<div>\n",
       "<style scoped>\n",
       "    .dataframe tbody tr th:only-of-type {\n",
       "        vertical-align: middle;\n",
       "    }\n",
       "\n",
       "    .dataframe tbody tr th {\n",
       "        vertical-align: top;\n",
       "    }\n",
       "\n",
       "    .dataframe thead th {\n",
       "        text-align: right;\n",
       "    }\n",
       "</style>\n",
       "<table border=\"1\" class=\"dataframe\">\n",
       "  <thead>\n",
       "    <tr style=\"text-align: right;\">\n",
       "      <th></th>\n",
       "      <th>R_fighter</th>\n",
       "      <th>B_fighter</th>\n",
       "      <th>R_odds</th>\n",
       "      <th>B_odds</th>\n",
       "      <th>R_ev</th>\n",
       "      <th>B_ev</th>\n",
       "      <th>date</th>\n",
       "      <th>location</th>\n",
       "      <th>country</th>\n",
       "      <th>Winner</th>\n",
       "      <th>...</th>\n",
       "      <th>finish_details</th>\n",
       "      <th>finish_round</th>\n",
       "      <th>finish_round_time</th>\n",
       "      <th>total_fight_time_secs</th>\n",
       "      <th>r_dec_odds</th>\n",
       "      <th>b_dec_odds</th>\n",
       "      <th>r_sub_odds</th>\n",
       "      <th>b_sub_odds</th>\n",
       "      <th>r_ko_odds</th>\n",
       "      <th>b_ko_odds</th>\n",
       "    </tr>\n",
       "  </thead>\n",
       "  <tbody>\n",
       "    <tr>\n",
       "      <th>0</th>\n",
       "      <td>Thiago Santos</td>\n",
       "      <td>Johnny Walker</td>\n",
       "      <td>-150.0</td>\n",
       "      <td>130</td>\n",
       "      <td>66.666667</td>\n",
       "      <td>130.000000</td>\n",
       "      <td>2021-10-02</td>\n",
       "      <td>Las Vegas, Nevada, USA</td>\n",
       "      <td>USA</td>\n",
       "      <td>Red</td>\n",
       "      <td>...</td>\n",
       "      <td>NaN</td>\n",
       "      <td>5.0</td>\n",
       "      <td>5:00</td>\n",
       "      <td>1500.0</td>\n",
       "      <td>800.0</td>\n",
       "      <td>900.0</td>\n",
       "      <td>2000.0</td>\n",
       "      <td>1600.0</td>\n",
       "      <td>-110.0</td>\n",
       "      <td>175.0</td>\n",
       "    </tr>\n",
       "    <tr>\n",
       "      <th>1</th>\n",
       "      <td>Alex Oliveira</td>\n",
       "      <td>Niko Price</td>\n",
       "      <td>170.0</td>\n",
       "      <td>-200</td>\n",
       "      <td>170.000000</td>\n",
       "      <td>50.000000</td>\n",
       "      <td>2021-10-02</td>\n",
       "      <td>Las Vegas, Nevada, USA</td>\n",
       "      <td>USA</td>\n",
       "      <td>Blue</td>\n",
       "      <td>...</td>\n",
       "      <td>NaN</td>\n",
       "      <td>3.0</td>\n",
       "      <td>5:00</td>\n",
       "      <td>900.0</td>\n",
       "      <td>450.0</td>\n",
       "      <td>350.0</td>\n",
       "      <td>700.0</td>\n",
       "      <td>1100.0</td>\n",
       "      <td>550.0</td>\n",
       "      <td>120.0</td>\n",
       "    </tr>\n",
       "    <tr>\n",
       "      <th>2</th>\n",
       "      <td>Misha Cirkunov</td>\n",
       "      <td>Krzysztof Jotko</td>\n",
       "      <td>110.0</td>\n",
       "      <td>-130</td>\n",
       "      <td>110.000000</td>\n",
       "      <td>76.923077</td>\n",
       "      <td>2021-10-02</td>\n",
       "      <td>Las Vegas, Nevada, USA</td>\n",
       "      <td>USA</td>\n",
       "      <td>Blue</td>\n",
       "      <td>...</td>\n",
       "      <td>NaN</td>\n",
       "      <td>3.0</td>\n",
       "      <td>5:00</td>\n",
       "      <td>900.0</td>\n",
       "      <td>550.0</td>\n",
       "      <td>275.0</td>\n",
       "      <td>275.0</td>\n",
       "      <td>1400.0</td>\n",
       "      <td>600.0</td>\n",
       "      <td>185.0</td>\n",
       "    </tr>\n",
       "    <tr>\n",
       "      <th>3</th>\n",
       "      <td>Alexander Hernandez</td>\n",
       "      <td>Mike Breeden</td>\n",
       "      <td>-675.0</td>\n",
       "      <td>475</td>\n",
       "      <td>14.814815</td>\n",
       "      <td>475.000000</td>\n",
       "      <td>2021-10-02</td>\n",
       "      <td>Las Vegas, Nevada, USA</td>\n",
       "      <td>USA</td>\n",
       "      <td>Red</td>\n",
       "      <td>...</td>\n",
       "      <td>Punch</td>\n",
       "      <td>1.0</td>\n",
       "      <td>1:20</td>\n",
       "      <td>80.0</td>\n",
       "      <td>175.0</td>\n",
       "      <td>900.0</td>\n",
       "      <td>500.0</td>\n",
       "      <td>3500.0</td>\n",
       "      <td>110.0</td>\n",
       "      <td>1100.0</td>\n",
       "    </tr>\n",
       "    <tr>\n",
       "      <th>4</th>\n",
       "      <td>Joe Solecki</td>\n",
       "      <td>Jared Gordon</td>\n",
       "      <td>-135.0</td>\n",
       "      <td>115</td>\n",
       "      <td>74.074074</td>\n",
       "      <td>115.000000</td>\n",
       "      <td>2021-10-02</td>\n",
       "      <td>Las Vegas, Nevada, USA</td>\n",
       "      <td>USA</td>\n",
       "      <td>Blue</td>\n",
       "      <td>...</td>\n",
       "      <td>NaN</td>\n",
       "      <td>3.0</td>\n",
       "      <td>5:00</td>\n",
       "      <td>900.0</td>\n",
       "      <td>165.0</td>\n",
       "      <td>200.0</td>\n",
       "      <td>400.0</td>\n",
       "      <td>1200.0</td>\n",
       "      <td>900.0</td>\n",
       "      <td>600.0</td>\n",
       "    </tr>\n",
       "  </tbody>\n",
       "</table>\n",
       "<p>5 rows × 119 columns</p>\n",
       "</div>"
      ],
      "text/plain": [
       "             R_fighter        B_fighter  R_odds  B_odds        R_ev  \\\n",
       "0        Thiago Santos    Johnny Walker  -150.0     130   66.666667   \n",
       "1        Alex Oliveira       Niko Price   170.0    -200  170.000000   \n",
       "2       Misha Cirkunov  Krzysztof Jotko   110.0    -130  110.000000   \n",
       "3  Alexander Hernandez     Mike Breeden  -675.0     475   14.814815   \n",
       "4          Joe Solecki     Jared Gordon  -135.0     115   74.074074   \n",
       "\n",
       "         B_ev        date                location country Winner  ...  \\\n",
       "0  130.000000  2021-10-02  Las Vegas, Nevada, USA     USA    Red  ...   \n",
       "1   50.000000  2021-10-02  Las Vegas, Nevada, USA     USA   Blue  ...   \n",
       "2   76.923077  2021-10-02  Las Vegas, Nevada, USA     USA   Blue  ...   \n",
       "3  475.000000  2021-10-02  Las Vegas, Nevada, USA     USA    Red  ...   \n",
       "4  115.000000  2021-10-02  Las Vegas, Nevada, USA     USA   Blue  ...   \n",
       "\n",
       "   finish_details finish_round finish_round_time  total_fight_time_secs  \\\n",
       "0             NaN          5.0              5:00                 1500.0   \n",
       "1             NaN          3.0              5:00                  900.0   \n",
       "2             NaN          3.0              5:00                  900.0   \n",
       "3           Punch          1.0              1:20                   80.0   \n",
       "4             NaN          3.0              5:00                  900.0   \n",
       "\n",
       "   r_dec_odds  b_dec_odds  r_sub_odds  b_sub_odds  r_ko_odds  b_ko_odds  \n",
       "0       800.0       900.0      2000.0      1600.0     -110.0      175.0  \n",
       "1       450.0       350.0       700.0      1100.0      550.0      120.0  \n",
       "2       550.0       275.0       275.0      1400.0      600.0      185.0  \n",
       "3       175.0       900.0       500.0      3500.0      110.0     1100.0  \n",
       "4       165.0       200.0       400.0      1200.0      900.0      600.0  \n",
       "\n",
       "[5 rows x 119 columns]"
      ]
     },
     "execution_count": 556,
     "metadata": {},
     "output_type": "execute_result"
    }
   ],
   "source": [
    "dataset.head()"
   ]
  },
  {
   "cell_type": "code",
   "execution_count": 557,
   "metadata": {},
   "outputs": [
    {
     "data": {
      "text/plain": [
       "Index(['R_fighter', 'B_fighter', 'R_odds', 'B_odds', 'R_ev', 'B_ev', 'date',\n",
       "       'location', 'country', 'Winner',\n",
       "       ...\n",
       "       'finish_details', 'finish_round', 'finish_round_time',\n",
       "       'total_fight_time_secs', 'r_dec_odds', 'b_dec_odds', 'r_sub_odds',\n",
       "       'b_sub_odds', 'r_ko_odds', 'b_ko_odds'],\n",
       "      dtype='object', length=119)"
      ]
     },
     "execution_count": 557,
     "metadata": {},
     "output_type": "execute_result"
    }
   ],
   "source": [
    "dataset.columns"
   ]
  },
  {
   "cell_type": "markdown",
   "metadata": {},
   "source": [
    "## Data Definition"
   ]
  },
  {
   "cell_type": "code",
   "execution_count": 606,
   "metadata": {},
   "outputs": [
    {
     "data": {
      "text/plain": [
       "4896"
      ]
     },
     "execution_count": 606,
     "metadata": {},
     "output_type": "execute_result"
    }
   ],
   "source": [
    "dataset_len = len(dataset)\n",
    "dataset_len"
   ]
  },
  {
   "cell_type": "code",
   "execution_count": 595,
   "metadata": {},
   "outputs": [
    {
     "data": {
      "text/plain": [
       "float64    58\n",
       "int64      46\n",
       "object     14\n",
       "bool        1\n",
       "dtype: int64"
      ]
     },
     "execution_count": 595,
     "metadata": {},
     "output_type": "execute_result"
    }
   ],
   "source": [
    "# show all data types\n",
    "dataset.dtypes.value_counts()"
   ]
  },
  {
   "cell_type": "code",
   "execution_count": 620,
   "metadata": {},
   "outputs": [
    {
     "data": {
      "text/plain": [
       "Index(['title_bout'], dtype='object')"
      ]
     },
     "execution_count": 620,
     "metadata": {},
     "output_type": "execute_result"
    }
   ],
   "source": [
    "# check boolean data type\n",
    "dataset.select_dtypes(bool).columns"
   ]
  },
  {
   "cell_type": "code",
   "execution_count": 607,
   "metadata": {},
   "outputs": [
    {
     "data": {
      "text/plain": [
       "True"
      ]
     },
     "execution_count": 607,
     "metadata": {},
     "output_type": "execute_result"
    }
   ],
   "source": [
    "dataset.select_dtypes(bool).value_counts().sum() == dataset_len"
   ]
  },
  {
   "cell_type": "code",
   "execution_count": 611,
   "metadata": {},
   "outputs": [
    {
     "data": {
      "text/plain": [
       "Index(['R_fighter', 'B_fighter', 'date', 'location', 'country', 'Winner',\n",
       "       'weight_class', 'gender', 'B_Stance', 'R_Stance', 'better_rank',\n",
       "       'finish', 'finish_details', 'finish_round_time'],\n",
       "      dtype='object')"
      ]
     },
     "execution_count": 611,
     "metadata": {},
     "output_type": "execute_result"
    }
   ],
   "source": [
    "# check columns with object data type\n",
    "dataset.select_dtypes(object).columns"
   ]
  },
  {
   "cell_type": "code",
   "execution_count": 615,
   "metadata": {},
   "outputs": [
    {
     "data": {
      "text/plain": [
       "Donald Cerrone      24\n",
       "Jim Miller          22\n",
       "Dustin Poirier      19\n",
       "Demian Maia         19\n",
       "Joseph Benavidez    18\n",
       "                    ..\n",
       "Syuri Kondo          1\n",
       "Daichi Abe           1\n",
       "Alvaro Herrera       1\n",
       "Damian Grabowski     1\n",
       "Eric Schafer         1\n",
       "Name: R_fighter, Length: 1348, dtype: int64"
      ]
     },
     "metadata": {},
     "output_type": "display_data"
    },
    {
     "data": {
      "text/plain": [
       "Charles Oliveira    18\n",
       "Jeremy Stephens     16\n",
       "Nik Lentz           14\n",
       "Angela Hill         14\n",
       "Kevin Lee           12\n",
       "                    ..\n",
       "Danny Henry          1\n",
       "Larissa Pacheco      1\n",
       "Wendell Oliveira     1\n",
       "Roman Bogatov        1\n",
       "Chase Gormley        1\n",
       "Name: B_fighter, Length: 1591, dtype: int64"
      ]
     },
     "metadata": {},
     "output_type": "display_data"
    },
    {
     "data": {
      "text/plain": [
       "11/19/2016    24\n",
       "10/4/2014     22\n",
       "5/31/2014     22\n",
       "8/23/2014     21\n",
       "6/28/2014     21\n",
       "              ..\n",
       "2/6/2021       8\n",
       "8/30/2014      8\n",
       "9/5/2020       7\n",
       "8/1/2020       7\n",
       "4/11/2014      7\n",
       "Name: date, Length: 428, dtype: int64"
      ]
     },
     "metadata": {},
     "output_type": "display_data"
    },
    {
     "data": {
      "text/plain": [
       "Las Vegas, Nevada, USA                        1251\n",
       "Abu Dhabi, Abu Dhabi, United Arab Emirates     153\n",
       "Houston, Texas, USA                             82\n",
       "Chicago, Illinois, USA                          80\n",
       "Newark, New Jersey, USA                         79\n",
       "                                              ... \n",
       "Bangor, Maine, USA                              10\n",
       "Hollywood, Florida, USA                          9\n",
       "Gold Coast, Queensland, Australia                9\n",
       "Omaha, Nebraska, USA                             9\n",
       "Ledyard, Connecticut, USA                        9\n",
       "Name: location, Length: 145, dtype: int64"
      ]
     },
     "metadata": {},
     "output_type": "display_data"
    },
    {
     "data": {
      "text/plain": [
       " USA                     2450\n",
       "USA                       599\n",
       " Brazil                   400\n",
       " Canada                   337\n",
       " United Kingdom           165\n",
       " Australia                160\n",
       "United Arab Emirates      141\n",
       " Sweden                    72\n",
       " Mexico                    70\n",
       " China                     61\n",
       " Germany                   54\n",
       " Japan                     53\n",
       " Singapore                 45\n",
       " Russia                    36\n",
       " New Zealand               33\n",
       " United Arab Emirates      29\n",
       " Netherlands               25\n",
       " South Korea               24\n",
       " Poland                    23\n",
       " Ireland                   19\n",
       " Croatia                   13\n",
       " Czech Republic            13\n",
       " Denmark                   13\n",
       " Chile                     13\n",
       " Uruguay                   13\n",
       " Philippines               12\n",
       " Argentina                 12\n",
       "Brazil                     11\n",
       "Name: country, dtype: int64"
      ]
     },
     "metadata": {},
     "output_type": "display_data"
    },
    {
     "data": {
      "text/plain": [
       "Red     2859\n",
       "Blue    2037\n",
       "Name: Winner, dtype: int64"
      ]
     },
     "metadata": {},
     "output_type": "display_data"
    },
    {
     "data": {
      "text/plain": [
       "Lightweight              855\n",
       "Welterweight             830\n",
       "Middleweight             593\n",
       "Featherweight            566\n",
       "Bantamweight             493\n",
       "Light Heavyweight        394\n",
       "Heavyweight              385\n",
       "Flyweight                235\n",
       "Women's Strawweight      203\n",
       "Women's Bantamweight     156\n",
       "Women's Flyweight        136\n",
       "Catch Weight              33\n",
       "Women's Featherweight     17\n",
       "Name: weight_class, dtype: int64"
      ]
     },
     "metadata": {},
     "output_type": "display_data"
    },
    {
     "data": {
      "text/plain": [
       "MALE      4384\n",
       "FEMALE     512\n",
       "Name: gender, dtype: int64"
      ]
     },
     "metadata": {},
     "output_type": "display_data"
    },
    {
     "data": {
      "text/plain": [
       "Orthodox       3680\n",
       "Southpaw        980\n",
       "Switch          232\n",
       "Switch            1\n",
       "Open Stance       1\n",
       "Name: B_Stance, dtype: int64"
      ]
     },
     "metadata": {},
     "output_type": "display_data"
    },
    {
     "data": {
      "text/plain": [
       "Orthodox       3712\n",
       "Southpaw        991\n",
       "Switch          189\n",
       "Open Stance       4\n",
       "Name: R_Stance, dtype: int64"
      ]
     },
     "metadata": {},
     "output_type": "display_data"
    },
    {
     "data": {
      "text/plain": [
       "neither    3522\n",
       "Red        1300\n",
       "Blue         74\n",
       "Name: better_rank, dtype: int64"
      ]
     },
     "metadata": {},
     "output_type": "display_data"
    },
    {
     "data": {
      "text/plain": [
       "U-DEC         1778\n",
       "KO/TKO        1495\n",
       "SUB            854\n",
       "S-DEC          483\n",
       "M-DEC           32\n",
       "DQ              14\n",
       "Overturned       2\n",
       "Name: finish, dtype: int64"
      ]
     },
     "metadata": {},
     "output_type": "display_data"
    },
    {
     "data": {
      "text/plain": [
       "Punch                 507\n",
       "Punches               467\n",
       "Rear Naked Choke      331\n",
       "Guillotine Choke      146\n",
       "Kick                  119\n",
       "Armbar                 95\n",
       "Knee                   67\n",
       "Elbows                 60\n",
       "Arm Triangle           58\n",
       "Triangle Choke         46\n",
       "Elbow                  30\n",
       "D'Arce Choke           26\n",
       "Kimura                 21\n",
       "Flying Knee            20\n",
       "Knees                  16\n",
       "Other - Choke          14\n",
       "Anaconda Choke         14\n",
       "Kneebar                12\n",
       "Heel Hook              11\n",
       "Spinning Back Fist      6\n",
       "Slam                    6\n",
       "Spinning Back Kick      6\n",
       "Neck Crank              5\n",
       "Other - Lock            5\n",
       "North-South Choke       4\n",
       "Injury                  3\n",
       "Omoplata                2\n",
       "Kicks                   2\n",
       "Ankle Lock              1\n",
       "Peruvian Necktie        1\n",
       "Keylock                 1\n",
       "Name: finish_details, dtype: int64"
      ]
     },
     "metadata": {},
     "output_type": "display_data"
    },
    {
     "data": {
      "text/plain": [
       "5:00    2141\n",
       "4:59      29\n",
       "2:38      23\n",
       "1:54      18\n",
       "3:38      15\n",
       "        ... \n",
       "0:09       1\n",
       "4:04       1\n",
       "3:20       1\n",
       "0:05       1\n",
       "3:55       1\n",
       "Name: finish_round_time, Length: 293, dtype: int64"
      ]
     },
     "metadata": {},
     "output_type": "display_data"
    }
   ],
   "source": [
    "# show value counts for every columns\n",
    "obj_cols = dataset.select_dtypes(object).columns\n",
    "for col in obj_cols:\n",
    "    display(dataset[col].value_counts())\n"
   ]
  },
  {
   "cell_type": "code",
   "execution_count": 622,
   "metadata": {},
   "outputs": [
    {
     "data": {
      "text/plain": [
       "array(['Orthodox', 'Southpaw', 'Switch', nan, 'Switch ', 'Open Stance'],\n",
       "      dtype=object)"
      ]
     },
     "execution_count": 622,
     "metadata": {},
     "output_type": "execute_result"
    }
   ],
   "source": [
    "# In B_Stance we found 'switch' has two different value, let's fix it\n",
    "\n",
    "dataset[\"B_Stance\"].unique()"
   ]
  },
  {
   "cell_type": "code",
   "execution_count": 634,
   "metadata": {},
   "outputs": [
    {
     "data": {
      "text/plain": [
       "4088    Switch \n",
       "Name: B_Stance, dtype: object"
      ]
     },
     "execution_count": 634,
     "metadata": {},
     "output_type": "execute_result"
    }
   ],
   "source": [
    "# Notice that one 'Switch' has a space in it\n",
    "B_Stance_err = dataset[\"B_Stance\"].loc[lambda x : x == \"Switch \"]\n",
    "B_Stance_err"
   ]
  },
  {
   "cell_type": "code",
   "execution_count": 636,
   "metadata": {},
   "outputs": [
    {
     "name": "stderr",
     "output_type": "stream",
     "text": [
      "<ipython-input-636-5bc65bc4f7d0>:2: SettingWithCopyWarning: \n",
      "A value is trying to be set on a copy of a slice from a DataFrame\n",
      "\n",
      "See the caveats in the documentation: https://pandas.pydata.org/pandas-docs/stable/user_guide/indexing.html#returning-a-view-versus-a-copy\n",
      "  dataset[\"B_Stance\"][B_Stance_err.index] = \"Switch\"\n"
     ]
    }
   ],
   "source": [
    "# assign new value\n",
    "dataset[\"B_Stance\"][B_Stance_err.index] = \"Switch\""
   ]
  },
  {
   "cell_type": "code",
   "execution_count": 637,
   "metadata": {},
   "outputs": [
    {
     "data": {
      "text/plain": [
       "Orthodox       3680\n",
       "Southpaw        980\n",
       "Switch          233\n",
       "Open Stance       1\n",
       "Name: B_Stance, dtype: int64"
      ]
     },
     "execution_count": 637,
     "metadata": {},
     "output_type": "execute_result"
    }
   ],
   "source": [
    "dataset[\"B_Stance\"].value_counts()"
   ]
  },
  {
   "cell_type": "code",
   "execution_count": 638,
   "metadata": {},
   "outputs": [
    {
     "data": {
      "text/plain": [
       "Index(['R_odds', 'B_odds', 'R_ev', 'B_ev', 'no_of_rounds',\n",
       "       'B_current_lose_streak', 'B_current_win_streak', 'B_draw',\n",
       "       'B_avg_SIG_STR_landed', 'B_avg_SIG_STR_pct',\n",
       "       ...\n",
       "       'B_Flyweight_rank', 'B_Pound-for-Pound_rank', 'finish_round',\n",
       "       'total_fight_time_secs', 'r_dec_odds', 'b_dec_odds', 'r_sub_odds',\n",
       "       'b_sub_odds', 'r_ko_odds', 'b_ko_odds'],\n",
       "      dtype='object', length=104)"
      ]
     },
     "execution_count": 638,
     "metadata": {},
     "output_type": "execute_result"
    }
   ],
   "source": [
    "# check columns with numeric data type\n",
    "dataset.select_dtypes([int, float]).columns"
   ]
  },
  {
   "cell_type": "markdown",
   "metadata": {},
   "source": [
    "We still have 104 numeric features so we can't validate each feature for now. We would engineer our dataset first so we can perform EDA and do selection of our features.\n",
    "\n",
    "For now we'll dump our dataset then preprocess it."
   ]
  },
  {
   "cell_type": "markdown",
   "metadata": {},
   "source": [
    "## Data Spliting and Dumping"
   ]
  },
  {
   "cell_type": "code",
   "execution_count": 655,
   "metadata": {},
   "outputs": [],
   "source": [
    "x = dataset.drop(config[\"target\"], axis=1).copy()\n",
    "y = dataset[config[\"target\"]].copy()\n",
    "\n",
    "# split our dataset into train and test set\n",
    "test_size = config['test_size']\n",
    "x_train, x_test, y_train, y_test = train_test_split(x, y, test_size = test_size, random_state = 99, stratify = y)\n",
    "\n",
    "# then split our test set into valid and test set\n",
    "valid_size = config['valid_size']\n",
    "x_valid, x_test, y_valid, y_test = train_test_split(x_test, y_test, test_size = valid_size, random_state = 99, stratify = y_test)\n",
    "\n",
    "utils.pickle_dump(dataset_validated, config[\"dataset_cleaned_path\"])\n",
    "\n",
    "utils.pickle_dump(x_train, config[\"train_set_path\"][0])\n",
    "utils.pickle_dump(y_train, config[\"train_set_path\"][1])\n",
    "\n",
    "utils.pickle_dump(x_valid, config[\"valid_set_path\"][0])\n",
    "utils.pickle_dump(y_valid, config[\"valid_set_path\"][1])\n",
    "\n",
    "utils.pickle_dump(x_test, config[\"test_set_path\"][0])\n",
    "utils.pickle_dump(y_test, config[\"test_set_path\"][1])"
   ]
  }
 ],
 "metadata": {
  "kernelspec": {
   "display_name": "Python 3.9.5 64-bit",
   "language": "python",
   "name": "python3"
  },
  "language_info": {
   "codemirror_mode": {
    "name": "ipython",
    "version": 3
   },
   "file_extension": ".py",
   "mimetype": "text/x-python",
   "name": "python",
   "nbconvert_exporter": "python",
   "pygments_lexer": "ipython3",
   "version": "3.9.5"
  },
  "orig_nbformat": 4,
  "vscode": {
   "interpreter": {
    "hash": "f6246b25e200e4c5124e3e61789ac81350562f0761bbcf92ad9e48654207659c"
   }
  }
 },
 "nbformat": 4,
 "nbformat_minor": 2
}
