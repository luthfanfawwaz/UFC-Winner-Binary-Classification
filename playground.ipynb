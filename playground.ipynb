{
 "cells": [
  {
   "cell_type": "code",
   "execution_count": 1,
   "metadata": {},
   "outputs": [],
   "source": [
    "import src.util as utils\n",
    "import pandas as pd\n",
    "import numpy as np\n",
    "from sklearn.preprocessing import StandardScaler"
   ]
  },
  {
   "cell_type": "code",
   "execution_count": 3,
   "metadata": {},
   "outputs": [],
   "source": [
    "# Want to check our scaler\n",
    "config = utils.load_config()"
   ]
  },
  {
   "cell_type": "code",
   "execution_count": 4,
   "metadata": {},
   "outputs": [],
   "source": [
    "scaler = utils.pickle_load(config[\"scaler_path\"])"
   ]
  },
  {
   "cell_type": "code",
   "execution_count": 7,
   "metadata": {},
   "outputs": [
    {
     "data": {
      "text/plain": [
       "array([ 0.17952314,  0.1002805 ,  0.70687237,  1.40182328,  0.7443899 ,\n",
       "        5.18162693,  0.2973352 ,  0.49684432,  0.27910238, -0.01028752,\n",
       "        0.17261571,  0.87868163])"
      ]
     },
     "execution_count": 7,
     "metadata": {},
     "output_type": "execute_result"
    }
   ],
   "source": [
    "scaler.mean_"
   ]
  },
  {
   "cell_type": "code",
   "execution_count": 1,
   "metadata": {},
   "outputs": [
    {
     "name": "stdout",
     "output_type": "stream",
     "text": [
      "\n",
      " lose_streak_dif\n",
      " win_streak_dif\n",
      " longest_win_streak_dif\n",
      " win_dif\n",
      " loss_dif\n",
      " total_round_dif\n",
      " total_title_bout_dif\n",
      " ko_dif\n",
      " sub_dif\n",
      " height_dif\n",
      " reach_dif\n",
      " age_dif\n"
     ]
    }
   ],
   "source": [
    "for i in \"- lose_streak_dif\\\n",
    "- win_streak_dif\\\n",
    "- longest_win_streak_dif\\\n",
    "- win_dif\\\n",
    "- loss_dif\\\n",
    "- total_round_dif\\\n",
    "- total_title_bout_dif\\\n",
    "- ko_dif\\\n",
    "- sub_dif\\\n",
    "- height_dif\\\n",
    "- reach_dif\\\n",
    "- age_dif\".split(sep='-'):\n",
    "    print(i)"
   ]
  },
  {
   "cell_type": "code",
   "execution_count": 2,
   "metadata": {},
   "outputs": [
    {
     "name": "stdout",
     "output_type": "stream",
     "text": [
      "\"lose_streak_dif\": lose_streak_dif,\n",
      "\"win_streak_dif\": win_streak_dif,\n",
      "\"longest_win_streak_dif\": longest_win_streak_dif,\n",
      "\"win_dif\": win_dif,\n",
      "\"loss_dif\": loss_dif,\n",
      "\"total_round_dif\": total_round_dif,\n",
      "\"total_title_bout_dif\": total_title_bout_dif,\n",
      "\"ko_dif\": ko_dif,\n",
      "\"sub_dif\": sub_dif,\n",
      "\"height_dif\": height_dif,\n",
      "\"reach_dif\": reach_dif,\n",
      "\"age_dif\": age_dif,\n"
     ]
    }
   ],
   "source": [
    "for i in \"lose_streak_dif\\\n",
    "- win_streak_dif\\\n",
    "- longest_win_streak_dif\\\n",
    "- win_dif\\\n",
    "- loss_dif\\\n",
    "- total_round_dif\\\n",
    "- total_title_bout_dif\\\n",
    "- ko_dif\\\n",
    "- sub_dif\\\n",
    "- height_dif\\\n",
    "- reach_dif\\\n",
    "- age_dif\".split(sep='- '):\n",
    "    print(\"\\\"\",i,\"\\\"\",\": \",i,\",\", sep=\"\")"
   ]
  },
  {
   "cell_type": "code",
   "execution_count": 10,
   "metadata": {},
   "outputs": [
    {
     "name": "stdout",
     "output_type": "stream",
     "text": [
      "\"lose_streak_dif\": red_lose_streak - blue_lose_streak,\n",
      "\"win_streak_dif\": red_win_streak - blue_win_streak,\n",
      "\"longest_win_streak_dif\": red_longest_win_streak - blue_longest_win_streak,\n",
      "\"win_dif\": red_win - blue_win,\n",
      "\"loss_dif\": red_loss - blue_loss,\n",
      "\"total_round_dif\": red_total_round - blue_total_round,\n",
      "\"total_title_bout_dif\": red_total_title_bout - blue_total_title_bout,\n",
      "\"ko_dif\": red_ko - blue_ko,\n",
      "\"sub_dif\": red_sub - blue_sub,\n",
      "\"height_dif\": red_height - blue_height,\n",
      "\"reach_dif\": red_reach - blue_reach,\n",
      "\"age_dif\": red_age - blue_age,\n"
     ]
    }
   ],
   "source": [
    "for i in \"lose_streak_dif\\\n",
    "- win_streak_dif\\\n",
    "- longest_win_streak_dif\\\n",
    "- win_dif\\\n",
    "- loss_dif\\\n",
    "- total_round_dif\\\n",
    "- total_title_bout_dif\\\n",
    "- ko_dif\\\n",
    "- sub_dif\\\n",
    "- height_dif\\\n",
    "- reach_dif\\\n",
    "- age_dif\".split(sep='- '):\n",
    "    print(\n",
    "        \"\\\"\",\n",
    "        i,\n",
    "        \"\\\"\",\n",
    "        \": \",\n",
    "        \"red_\",\n",
    "        i.split(\"_dif\")[0],\n",
    "        \" - \",\n",
    "        \"blue_\",\n",
    "        i.split(\"_dif\")[0],\n",
    "        \",\",\n",
    "        sep=\"\"\n",
    "    )"
   ]
  },
  {
   "cell_type": "code",
   "execution_count": 24,
   "metadata": {},
   "outputs": [
    {
     "name": "stdout",
     "output_type": "stream",
     "text": [
      "blue_win = st.number_input(\n",
      "\tlabel = \"Number of :blue[Blue] fighter's Win:\",\n",
      "\tmin_value = 0,\n",
      "\thelp = \"The number cannot go below 0.\"\n",
      "\t)\n",
      "\n",
      "blue_loss = st.number_input(\n",
      "\tlabel = \"Number of :blue[Blue] fighter's Loss:\",\n",
      "\tmin_value = 0,\n",
      "\thelp = \"The number cannot go below 0.\"\n",
      "\t)\n",
      "\n",
      "blue_win_streak = st.number_input(\n",
      "\tlabel = \"Number of :blue[Blue] fighter's Win Streak:\",\n",
      "\tmin_value = 0,\n",
      "\thelp = \"The number cannot go below 0.\"\n",
      "\t)\n",
      "\n",
      "blue_lose_streak = st.number_input(\n",
      "\tlabel = \"Number of :blue[Blue] fighter's Lose Streak:\",\n",
      "\tmin_value = 0,\n",
      "\thelp = \"The number cannot go below 0.\"\n",
      "\t)\n",
      "\n",
      "blue_longest_win_streak = st.number_input(\n",
      "\tlabel = \"Number of :blue[Blue] fighter's Longest Win Streak:\",\n",
      "\tmin_value = 0,\n",
      "\thelp = \"The number cannot go below 0.\"\n",
      "\t)\n",
      "\n",
      "blue_total_round = st.number_input(\n",
      "\tlabel = \"Number of :blue[Blue] fighter's Total Round:\",\n",
      "\tmin_value = 0,\n",
      "\thelp = \"The number cannot go below 0.\"\n",
      "\t)\n",
      "\n",
      "blue_total_title_bout = st.number_input(\n",
      "\tlabel = \"Number of :blue[Blue] fighter's Total Title Bout:\",\n",
      "\tmin_value = 0,\n",
      "\thelp = \"The number cannot go below 0.\"\n",
      "\t)\n",
      "\n",
      "blue_ko = st.number_input(\n",
      "\tlabel = \"Number of :blue[Blue] fighter's Ko:\",\n",
      "\tmin_value = 0,\n",
      "\thelp = \"The number cannot go below 0.\"\n",
      "\t)\n",
      "\n",
      "blue_sub = st.number_input(\n",
      "\tlabel = \"Number of :blue[Blue] fighter's Sub:\",\n",
      "\tmin_value = 0,\n",
      "\thelp = \"The number cannot go below 0.\"\n",
      "\t)\n",
      "\n",
      "blue_height = st.number_input(\n",
      "\tlabel = \"Number of :blue[Blue] fighter's Height:\",\n",
      "\tmin_value = 0,\n",
      "\thelp = \"The number cannot go below 0.\"\n",
      "\t)\n",
      "\n",
      "blue_reach = st.number_input(\n",
      "\tlabel = \"Number of :blue[Blue] fighter's Reach:\",\n",
      "\tmin_value = 0,\n",
      "\thelp = \"The number cannot go below 0.\"\n",
      "\t)\n",
      "\n",
      "blue_age = st.number_input(\n",
      "\tlabel = \"Number of :blue[Blue] fighter's Age:\",\n",
      "\tmin_value = 0,\n",
      "\thelp = \"The number cannot go below 0.\"\n",
      "\t)\n",
      "\n"
     ]
    }
   ],
   "source": [
    "for i in \"win_dif\\\n",
    "- loss_dif\\\n",
    "- win_streak_dif\\\n",
    "- lose_streak_dif\\\n",
    "- longest_win_streak_dif\\\n",
    "- total_round_dif\\\n",
    "- total_title_bout_dif\\\n",
    "- ko_dif\\\n",
    "- sub_dif\\\n",
    "- height_dif\\\n",
    "- reach_dif\\\n",
    "- age_dif\".split(sep='- '):\n",
    "    fighter = \"blue\"\n",
    "    fighter_header = fighter + \"_\"\n",
    "    feat = i.split(\"_dif\")[0]\n",
    "    feat_capitalized = ' '.join(feat.split(sep=\"_\")).title()\n",
    "    print(\n",
    "        fighter_header,\n",
    "        feat,\n",
    "        \" = \",\n",
    "        \"st.number_input(\\n\\t\",\n",
    "        f'label = \"Number of :{fighter}[{fighter.title()}] fighter\\'s {feat_capitalized}:\",\\n\\t',\n",
    "        \"min_value = 0,\\n\\t\",\n",
    "        'help = \"The number cannot go below 0.\"\\n\\t)\\n',\n",
    "        sep=\"\"\n",
    "    )"
   ]
  }
 ],
 "metadata": {
  "kernelspec": {
   "display_name": "Python 3",
   "language": "python",
   "name": "python3"
  },
  "language_info": {
   "codemirror_mode": {
    "name": "ipython",
    "version": 3
   },
   "file_extension": ".py",
   "mimetype": "text/x-python",
   "name": "python",
   "nbconvert_exporter": "python",
   "pygments_lexer": "ipython3",
   "version": "3.9.5"
  },
  "orig_nbformat": 4,
  "vscode": {
   "interpreter": {
    "hash": "f6246b25e200e4c5124e3e61789ac81350562f0761bbcf92ad9e48654207659c"
   }
  }
 },
 "nbformat": 4,
 "nbformat_minor": 2
}
